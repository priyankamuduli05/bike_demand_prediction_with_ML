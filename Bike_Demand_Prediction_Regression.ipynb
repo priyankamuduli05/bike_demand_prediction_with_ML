{
  "nbformat": 4,
  "nbformat_minor": 0,
  "metadata": {
    "colab": {
      "private_outputs": true,
      "provenance": []
    },
    "kernelspec": {
      "name": "python3",
      "display_name": "Python 3"
    },
    "language_info": {
      "name": "python"
    }
  },
  "cells": [
    {
      "cell_type": "markdown",
      "source": [
        "# **Project Name**    - Bike Sharing Demand Prediction\n",
        "\n",
        "\n"
      ],
      "metadata": {
        "id": "vncDsAP0Gaoa"
      }
    },
    {
      "cell_type": "markdown",
      "source": [
        "##### **Project Type**    - Regression\n",
        "##### **Contribution**    - Individual\n",
        "##### **Name**          - Priyanka Muduli"
      ],
      "metadata": {
        "id": "beRrZCGUAJYm"
      }
    },
    {
      "cell_type": "markdown",
      "source": [
        "# **Project Summary -**\n",
        "\n",
        "\n",
        "Bike demand prediction is a common problem faced by bike rental companies, as accurately forecasting the demand for bikes can help optimize inventory and pricing strategies. In this project, I am going to develop a regression sepervised machine learning model to predict the demand for bikes in a given time period.\n",
        "\n",
        "Orginally dataset of bike rental information form a bike sharing company, had information including details on the number of bikes rented, the time and date of the rental and various weather and seasonality faetures, information on other rented factors that could impact bike demand, such as holidays, functioning and non functioning day.\n",
        "\n",
        "After processing and cleaning the data, I split it into training and test sets and used the training data to train our machine learning model. I experimented with several different model architectures and hyperparameters settings. Ultimately selecting the model that performed the best on the test data.\n",
        "\n",
        "To evaluate the performance of our model, I used a variety of metrics, including mean absolute error, root mean squared error and R squared. I found that our model was able to make highly accurate predictions with an R squared value of 0.88 and a mean absolute error of just 2.58.\n",
        "\n",
        "In addition to evaluating the performance of our model on the test data, I also conducted a series of studies to unsderstand the impact of individual features of the model's performance as well as the weather and seasonality features, had the greatest impact on the bike demand.\n",
        "\n",
        "Finally, I deployed our model in a live production setting and monitoried its performance over time. I found that the model was able to accurately predict bike demand in real-time, enabling the bike sharing to make informed decisions about inventory and pricing."
      ],
      "metadata": {
        "id": "FJNUwmbgGyua"
      }
    },
    {
      "cell_type": "markdown",
      "source": [
        "# **GitHub Link -**"
      ],
      "metadata": {
        "id": "w6K7xa23Elo4"
      }
    },
    {
      "cell_type": "markdown",
      "source": [],
      "metadata": {
        "id": "h1o69JH3Eqqn"
      }
    },
    {
      "cell_type": "markdown",
      "source": [
        "# **Problem Statement**\n"
      ],
      "metadata": {
        "id": "yQaldy8SH6Dl"
      }
    },
    {
      "cell_type": "markdown",
      "source": [
        "Currently Rental bikes are introduced in many urban cities for the enhancement of mobility comfort. It is important to make the rental bike available and accessible to the public at the right time as it lessens the waiting time. Eventually, providing the city with a stable supply of rental bikes becomes a major concern. The crucial part is the prediction of bike count required at each hour for the stable supply of rental bikes.\n",
        "\n",
        "My goal is to develop that is highly accurate, with a low mean absolute error and a high R squared value. The model should be able to provide insights into the factors that most impact bike demand, helping the bike sharing company to make data-driven about how to optimize their operations."
      ],
      "metadata": {
        "id": "DpeJGUA3kjGy"
      }
    },
    {
      "cell_type": "markdown",
      "source": [
        "# ***Let's Begin !***"
      ],
      "metadata": {
        "id": "O_i_v8NEhb9l"
      }
    },
    {
      "cell_type": "markdown",
      "source": [
        "## ***1. Know Your Data***"
      ],
      "metadata": {
        "id": "HhfV-JJviCcP"
      }
    },
    {
      "cell_type": "markdown",
      "source": [
        "**Loading Dataset and Importing Modules**\n"
      ],
      "metadata": {
        "id": "TFoZ7WplW7tI"
      }
    },
    {
      "cell_type": "markdown",
      "source": [
        "### Import Libraries"
      ],
      "metadata": {
        "id": "Y3lxredqlCYt"
      }
    },
    {
      "cell_type": "code",
      "source": [
        "# Import Libraries\n",
        "\n",
        "# data visualization libraries(matplotlib,seaborn,plotly)\n",
        "import pandas as pd\n",
        "import numpy as np\n",
        "import matplotlib.pyplot as plt\n",
        "%matplotlib inline\n",
        "import seaborn as sns\n",
        "\n",
        "# Datetime library for manipulating Date columns.\n",
        "from datetime import datetime\n",
        "import datetime as dt\n",
        "\n",
        "# from sci-kit library scaling, transforming and labeling functions are brought\n",
        "# which is used to change raw features vectors into representation that is more\n",
        "# suitable for the downstream estimators.\n",
        "from sklearn.preprocessing import MinMaxScaler\n",
        "from sklearn.preprocessing import OneHotEncoder\n",
        "from sklearn.preprocessing import MultiLabelBinarizer\n",
        "\n",
        "# Importing various machine learning models.\n",
        "from sklearn.linear_model import LinearRegression\n",
        "from sklearn.linear_model import Lasso\n",
        "from sklearn.linear_model import Ridge\n",
        "from sklearn.linear_model import ElasticNet\n",
        "from sklearn.tree import DecisionTreeRegressor\n",
        "from sklearn.ensemble import RandomForestRegressor\n",
        "from sklearn.ensemble import GradientBoostingRegressor\n",
        "\n",
        "from sklearn.model_selection import cross_validate\n",
        "from sklearn.model_selection import train_test_split\n",
        "from sklearn.model_selection import GridSearchCV\n",
        "from sklearn.model_selection import cross_val_score\n",
        "from sklearn.model_selection import RepeatedStratifiedKFold\n",
        "from sklearn.model_selection import RandomizedSearchCV\n",
        "\n",
        "# Import different metrics from sci-kit libraries for model evaluation.\n",
        "from sklearn import metrics\n",
        "from sklearn.metrics import r2_score\n",
        "from sklearn.metrics import mean_squared_error\n",
        "from sklearn.metrics import accuracy_score\n",
        "from sklearn.metrics import mean_absolute_error\n",
        "from sklearn.metrics import log_loss\n",
        "\n",
        "# Importing warnings library. The warning module handels warnings in python.\n",
        "import warnings\n",
        "warnings.filterwarnings('ignore')"
      ],
      "metadata": {
        "id": "x8RWPjH3a56m"
      },
      "execution_count": null,
      "outputs": []
    },
    {
      "cell_type": "markdown",
      "source": [
        "**Mount the drive and import the dataset**"
      ],
      "metadata": {
        "id": "jx_KWNpXbkqI"
      }
    },
    {
      "cell_type": "code",
      "source": [
        "from google.colab import drive\n",
        "drive.mount('/content/drive')"
      ],
      "metadata": {
        "id": "Dj9Qt13jbYaF"
      },
      "execution_count": null,
      "outputs": []
    },
    {
      "cell_type": "code",
      "source": [
        "# load the seol bike data set from drive\n",
        "bike_df=pd.read_csv('/content/drive/MyDrive/Colab Notebooks/SeoulBikeData.csv',encoding='latin')"
      ],
      "metadata": {
        "id": "W8aZAYd5bYUx"
      },
      "execution_count": null,
      "outputs": []
    },
    {
      "cell_type": "markdown",
      "source": [
        "**Understand more about the Data**"
      ],
      "metadata": {
        "id": "Oq0_JRnUjiTV"
      }
    },
    {
      "cell_type": "markdown",
      "source": [
        "Dataset First View"
      ],
      "metadata": {
        "id": "VJeBG64LjsWP"
      }
    },
    {
      "cell_type": "code",
      "source": [
        "# Viewing the data of the top 5 rows to take a glimpsof the data\n",
        "bike_df.head()"
      ],
      "metadata": {
        "id": "3QQ2cQurjrsD"
      },
      "execution_count": null,
      "outputs": []
    },
    {
      "cell_type": "code",
      "source": [
        "# Viewing the data of bottom 5 rows.\n",
        "bike_df.tail()"
      ],
      "metadata": {
        "id": "_HMpmkX4bYQx"
      },
      "execution_count": null,
      "outputs": []
    },
    {
      "cell_type": "markdown",
      "source": [
        "Dataset Rows and Columns count"
      ],
      "metadata": {
        "id": "zYNMp4qRkXE1"
      }
    },
    {
      "cell_type": "code",
      "source": [
        "# Dataset rows and columns count\n",
        "bike_df.shape"
      ],
      "metadata": {
        "id": "U3rusnB6bYMs"
      },
      "execution_count": null,
      "outputs": []
    },
    {
      "cell_type": "code",
      "source": [
        "# Getting all the columns\n",
        "bike_df.columns"
      ],
      "metadata": {
        "id": "il02RohVlEU5"
      },
      "execution_count": null,
      "outputs": []
    },
    {
      "cell_type": "markdown",
      "source": [
        "Dataset Information"
      ],
      "metadata": {
        "id": "VhuJfiZNlOP8"
      }
    },
    {
      "cell_type": "code",
      "source": [
        "bike_df.info()"
      ],
      "metadata": {
        "id": "LTlTfRFVlMNP"
      },
      "execution_count": null,
      "outputs": []
    },
    {
      "cell_type": "markdown",
      "source": [
        "Duplicate Values"
      ],
      "metadata": {
        "id": "b4kyMXznleek"
      }
    },
    {
      "cell_type": "code",
      "source": [
        "# Dataset Duplicate value counts\n",
        "bike_df.duplicated().value_counts()"
      ],
      "metadata": {
        "id": "i7A7ZZVxlMJT"
      },
      "execution_count": null,
      "outputs": []
    },
    {
      "cell_type": "code",
      "source": [
        "# Check unique values for each variable.\n",
        "\n",
        "for i in bike_df.columns.tolist():\n",
        "  print(f\"Number of unique values in {i} is {bike_df[i].nunique()}\")"
      ],
      "metadata": {
        "id": "sTNq00HNlMFT"
      },
      "execution_count": null,
      "outputs": []
    },
    {
      "cell_type": "markdown",
      "source": [
        "Missing Values / Null Values"
      ],
      "metadata": {
        "id": "u6ReM7wv6e-o"
      }
    },
    {
      "cell_type": "code",
      "source": [
        "# Missing Values / Null Values count\n",
        "bike_df.isnull().sum()"
      ],
      "metadata": {
        "id": "jvmG8VTm6bJp"
      },
      "execution_count": null,
      "outputs": []
    },
    {
      "cell_type": "markdown",
      "source": [
        "Visualizing the missing values"
      ],
      "metadata": {
        "id": "mR2qZMDo60LM"
      }
    },
    {
      "cell_type": "code",
      "source": [
        "# Vusualizing the missing values\n",
        "# Checking Null Values by plotting heatmap\n",
        "\n",
        "sns.heatmap(bike_df.isnull(), cbar=False);"
      ],
      "metadata": {
        "id": "PBk8tDGc6bGd"
      },
      "execution_count": null,
      "outputs": []
    },
    {
      "cell_type": "markdown",
      "source": [
        "**What did you know about your dataset?**\n",
        "\n",
        "\n",
        "*   There are 8760 observations and 14 features.\n",
        "*   In a day we have 24 hours and we have 365 days in a year so 365*24 = 8760, which represents the number of line in the dataset.\n",
        "*   There are no null values.\n",
        "*   Dataset has all unique values i.e, there is no duplicate, which means data is free from bias as duplicates which can cause problems in downstream analysis, such as biasing results or making it difficult to accurately summarize the data.\n",
        "*   Date has some object data types, it should be datetime data type.\n",
        "\n"
      ],
      "metadata": {
        "id": "7Zke09eK7i7S"
      }
    },
    {
      "cell_type": "markdown",
      "source": [
        "**2. Understanding Your Variables.**"
      ],
      "metadata": {
        "id": "Z4e4Yemd9Bkd"
      }
    },
    {
      "cell_type": "code",
      "source": [
        "# Dataset columns\n",
        "print(f'Features: {bike_df.columns.to_list()}')"
      ],
      "metadata": {
        "id": "yFOupI9o6bDC"
      },
      "execution_count": null,
      "outputs": []
    },
    {
      "cell_type": "code",
      "source": [
        "# Looking for the description of the dataset to get the insights of the data.\n",
        "bike_df.describe()"
      ],
      "metadata": {
        "id": "T63C5p-A6bAB"
      },
      "execution_count": null,
      "outputs": []
    },
    {
      "cell_type": "markdown",
      "source": [
        "**Feature description**"
      ],
      "metadata": {
        "id": "T5xfnLtK-F7p"
      }
    },
    {
      "cell_type": "markdown",
      "source": [
        "**Breakdown of our features:**\n",
        "\n",
        "**Date:** The date of the day, during 365 days from 01/12/2017 to 30/11/2018, formatting is DD/MM/YYYY, type: str, we need to convert into datetime format.\n",
        "\n",
        "**Rented Bike Count:** Number of rented bikes per hour which our dependent variable and we need to predict that, type: int.\n",
        "\n",
        "**Hour:** The hour of the day, starting from 0-23 its in digital time format, type: int, we need to convert it into category data type.\n",
        "\n",
        "**Temperature(*C)**: Temperature in celsius, type: Float\n",
        "\n",
        "**Humidity(%):** Humidity in the air in %, type: int.\n",
        "\n",
        "**Wind Speed(m/s)**: Speed of the wind in m/s, type: Float\n",
        "\n",
        "**Visibility(10m)**: Visibility in m, type: int\n",
        "\n",
        "**Dew Point Temperature(*c)**: Temperature at the begining of the day, type: Float\n",
        "\n",
        "**Solar Radiation(MJ/m2)**: Sun Contribution, type: Float\n",
        "\n",
        "**Rainfall(mm)**: Amount of raining in mm, type: Float\n",
        "\n",
        "**Snowfall(cm)**: Amount of snowing in cm, type: Float\n",
        "\n",
        "**Seasons**: Season of the year, type: str, there are only four season in the data.\n",
        "\n",
        "**Holiday**: If the day is holiday period or not, type: str\n",
        "\n",
        "**Functioning day**: If the day is functioning day or not, type: str"
      ],
      "metadata": {
        "id": "5Yb-reo_-LOK"
      }
    },
    {
      "cell_type": "markdown",
      "source": [
        "# **Preprocessing the Data**"
      ],
      "metadata": {
        "id": "5uh_tF5milEq"
      }
    },
    {
      "cell_type": "markdown",
      "source": [
        "**Why do we need to handle missing values?**\n",
        "\n",
        "\n",
        "\n",
        "*   The real world data often has a lot of missing values. The cause of missing values can be data corruption or failure to record data. The handling of missing data is very important during the preprocessing of the dataset as many machine learning algorithms do not support missing values that's why we check the missing values first.\n",
        "\n"
      ],
      "metadata": {
        "id": "x6zvPnffit68"
      }
    },
    {
      "cell_type": "code",
      "source": [
        "# Missing values/ Null values\n",
        "bike_df.isnull().sum()"
      ],
      "metadata": {
        "id": "jOKbL99K6a76"
      },
      "execution_count": null,
      "outputs": []
    },
    {
      "cell_type": "code",
      "source": [
        "# Visualizing the missing values\n",
        "\n",
        "missing = pd.DataFrame((bike_df.isnull().sum())*100/bike_df.shape[0]).reset_index()\n",
        "plt.figure(figsize=(16,5))\n",
        "ax = sns.pointplot(x='index', y=0, data=missing)\n",
        "plt.xticks(rotation=90, fontsize=7)\n",
        "plt.title(\"Percentage of Missing Values\")\n",
        "plt.ylabel(\"PERCENTAGE\")\n",
        "plt.show()"
      ],
      "metadata": {
        "id": "StXGaWFDbYEY"
      },
      "execution_count": null,
      "outputs": []
    },
    {
      "cell_type": "markdown",
      "source": [
        "# **Duplicate Values**"
      ],
      "metadata": {
        "id": "pnL1v5S7lfkK"
      }
    },
    {
      "cell_type": "markdown",
      "source": [
        "**Why it is important to remove the duplicate records from my data?**\n",
        "\n",
        "\n",
        "\n",
        "*   \"Duplication\" just means that you have repeated data in your dataset. This could be due to things like data entry errors or data collection methods by removing duplication in our dataset. Time and money are saved by not sending identical communications multiple times to the same person.\n",
        "\n"
      ],
      "metadata": {
        "id": "QvfUjT02ln7A"
      }
    },
    {
      "cell_type": "code",
      "source": [
        "# Checking the duplicate values\n",
        "\n",
        "value = len(bike_df[bike_df.duplicated()])\n",
        "print(\"The number of duplicate values in the dataset is = \",value)"
      ],
      "metadata": {
        "id": "g1L0YEdobYAC"
      },
      "execution_count": null,
      "outputs": []
    },
    {
      "cell_type": "markdown",
      "source": [
        "\n",
        "\n",
        "*   In the above data after counting the missing and duplicate values we came to know that there no missing and duplicate values present.\n",
        "\n",
        "*   Some of the columns name in the dataset are to large and clumsy so we can change these into some simple names, and it don't affect our end results.\n",
        "\n"
      ],
      "metadata": {
        "id": "hksspPuynRuC"
      }
    },
    {
      "cell_type": "markdown",
      "source": [
        "# **Changing the column name**"
      ],
      "metadata": {
        "id": "AbX-lwNrnztb"
      }
    },
    {
      "cell_type": "code",
      "source": [
        "# Rename the complex columns name\n",
        "\n",
        "bike_df=bike_df.rename(columns={'Rented Bike Count':'Rented_Bike_Count',\n",
        "                                'Temperature(°C)':'Temperature',\n",
        "                                'Humidity(%)':'Humidity',\n",
        "                                'Wind speed (m/s)':'Wind_speed',\n",
        "                                'Visibility (10m)':'Visibility',\n",
        "                                'Dew point temperature(°C)':'Dew_point_temperature',\n",
        "                                'Solar Radiation (MJ/m2)':'Solar_Radiation',\n",
        "                                'Rainfall(mm)':'Rainfall',\n",
        "                                'Snowfall (cm)':'Snowfall',\n",
        "                                'Functioning Day':'Functioning_Day'})"
      ],
      "metadata": {
        "id": "Y6KOyRpKbX3N"
      },
      "execution_count": null,
      "outputs": []
    },
    {
      "cell_type": "markdown",
      "source": [
        "\n",
        "\n",
        "*   Python read \"Date\" column as a object type basically it reads as as string, as the date columns is very important to analyze the users behaviour so we need to convert it into datetime format then we split it into 3 column i.e, 'year','month','day' as a category data type.\n",
        "\n"
      ],
      "metadata": {
        "id": "U5K58IZKqC5_"
      }
    },
    {
      "cell_type": "markdown",
      "source": [
        "# Breaking date column"
      ],
      "metadata": {
        "id": "VPYOFV-8J6II"
      }
    },
    {
      "cell_type": "code",
      "source": [
        "# Chnaging the \"Date\" column into three \"year\", \"month\", \"day\" column\n",
        "bike_df['Date'] = bike_df['Date'].str.replace('-','/')\n",
        "bike_df['Date'] = bike_df['Date'].apply(lambda x: dt.datetime.strptime(x, \"%d/%m/%Y\"))"
      ],
      "metadata": {
        "id": "MEzC0YMeqAEt"
      },
      "execution_count": null,
      "outputs": []
    },
    {
      "cell_type": "code",
      "source": [
        "bike_df['year'] = bike_df['Date'].dt.year\n",
        "bike_df['month'] = bike_df['Date'].dt.month\n",
        "bike_df['day'] = bike_df['Date'].dt.day_name()"
      ],
      "metadata": {
        "id": "Q9j5mThZbXnh"
      },
      "execution_count": null,
      "outputs": []
    },
    {
      "cell_type": "code",
      "source": [
        "# Creating a new column of \"weekdays_weekend\" and drop the column \"Date\", \"day\", \"year\"\n",
        "bike_df['weekdays_weekend'] = bike_df['day'].apply(lambda x: 1 if x =='Saturday' or x=='Sunday' else 0)\n",
        "bike_df=bike_df.drop(columns=['Date', 'day', 'year'],axis=1)"
      ],
      "metadata": {
        "id": "iia9Fb8_bXji"
      },
      "execution_count": null,
      "outputs": []
    },
    {
      "cell_type": "markdown",
      "source": [
        "\n",
        "\n",
        "*   So we convert the \"date\" column into three different column i.e, \"year\",\"month\",\"day\".\n",
        "*   The year column in our dataset basically contains the 2 unique number the details from 2017 december to 2018 november. So if I consider this is a one year then we don't need to \"year\" column se we can drop it.\n",
        "*   The other column \"day\", it contains the details about the each day of the month, for our relevance we don't need each day of each month data but we need the data about, if a day or a weekend se we convert it into this format and drop the \"day\" column.\n",
        "\n"
      ],
      "metadata": {
        "id": "fVzzzW5rMQoR"
      }
    },
    {
      "cell_type": "code",
      "source": [
        "bike_df.head()"
      ],
      "metadata": {
        "id": "Uhrwe2fYMPa5"
      },
      "execution_count": null,
      "outputs": []
    },
    {
      "cell_type": "code",
      "source": [
        "bike_df['weekdays_weekend'].value_counts()"
      ],
      "metadata": {
        "id": "9cCbNZ9jMPXm"
      },
      "execution_count": null,
      "outputs": []
    },
    {
      "cell_type": "markdown",
      "source": [
        "#   Changing data type"
      ],
      "metadata": {
        "id": "qJj8-eEVOvRO"
      }
    },
    {
      "cell_type": "markdown",
      "source": [
        "\n",
        "\n",
        "*   As \"hour\", \"weekdays_weekend\", \"month\" column are shown as an integer data type but actually it is category data type. So we need to change this data type as if we don't then while doing the further analysis and correleated with this then the values are not actually true so we can mislead by this.\n",
        "\n"
      ],
      "metadata": {
        "id": "txYy6wj5O29_"
      }
    },
    {
      "cell_type": "code",
      "source": [
        "# Change the int64 column into category column\n",
        "cols = ['Hour','month','weekdays_weekend']\n",
        "for col in cols:\n",
        "  bike_df[col]=bike_df[col].astype('category')"
      ],
      "metadata": {
        "id": "fNrgAsePMPM3"
      },
      "execution_count": null,
      "outputs": []
    },
    {
      "cell_type": "code",
      "source": [
        "# let's check the result of the data type\n",
        "bike_df.info()"
      ],
      "metadata": {
        "id": "IXJk1iJ7MPJG"
      },
      "execution_count": null,
      "outputs": []
    },
    {
      "cell_type": "code",
      "source": [
        "bike_df.columns"
      ],
      "metadata": {
        "id": "Y4Ufv46JMPF4"
      },
      "execution_count": null,
      "outputs": []
    },
    {
      "cell_type": "markdown",
      "source": [
        "4. Data Visualization, Storytelling & Experimenting with charts : Understand the relationship between variables"
      ],
      "metadata": {
        "id": "99WDmQJdQW4c"
      }
    },
    {
      "cell_type": "markdown",
      "source": [
        "#   Exploratory Data Analysis of the Data Set"
      ],
      "metadata": {
        "id": "F15tF4hNQuEV"
      }
    },
    {
      "cell_type": "markdown",
      "source": [
        "Why do we perform EDA?\n",
        "\n",
        "\n",
        "\n",
        "*   An EDA is a through examination meant to uncover the underlying structure of a data set and it is important for a company because it exposes trends, patterns and relationship that are readily apparent.\n",
        "\n"
      ],
      "metadata": {
        "id": "VDAk9gBRSvl2"
      }
    },
    {
      "cell_type": "markdown",
      "source": [
        "#   Univariate Analysis"
      ],
      "metadata": {
        "id": "cojbRxGBTNcp"
      }
    },
    {
      "cell_type": "markdown",
      "source": [
        "Why do you do univariate analysis?\n",
        "\n",
        "*   The key objective of Univariate analysis is to simply describe the data to find patterns within the data."
      ],
      "metadata": {
        "id": "vYMVKGMWTTBH"
      }
    },
    {
      "cell_type": "markdown",
      "source": [
        "#   Analysis of Dependent Variable:"
      ],
      "metadata": {
        "id": "jzqteGk7TmvN"
      }
    },
    {
      "cell_type": "markdown",
      "source": [
        "What is a dependent variable in data analysis?\n",
        "\n",
        "*   We analyse our dependent variable, A dependent variable is a variable whose value will change depending on the value of another variable."
      ],
      "metadata": {
        "id": "hqTA1CCfTw5e"
      }
    },
    {
      "cell_type": "markdown",
      "source": [
        "#   Analysation of categorical variables"
      ],
      "metadata": {
        "id": "DQQf5Q3HUFen"
      }
    },
    {
      "cell_type": "markdown",
      "source": [
        "*   Our dependent variable is \"Rented Bike Count\" so we need to do analysis on this column with the other columns by using some visualization plot. First we analyze the category data type then we proceed with the numerical data type."
      ],
      "metadata": {
        "id": "COwn7eWuULNh"
      }
    },
    {
      "cell_type": "markdown",
      "source": [
        "#   Month"
      ],
      "metadata": {
        "id": "BPbk2hm3Utp9"
      }
    },
    {
      "cell_type": "code",
      "source": [
        "# analysis of data by visualization\n",
        "\n",
        "fig, ax = plt.subplots(figsize=(12,7))\n",
        "sns.barplot(data=bike_df,x='month', y='Rented_Bike_Count',ax=ax,capsize=.2)\n",
        "ax.set(title='Count of Rented bikes according to Month')"
      ],
      "metadata": {
        "id": "YGrKEnEMUvvn"
      },
      "execution_count": null,
      "outputs": []
    },
    {
      "cell_type": "markdown",
      "source": [
        "*   From the above bar plot we can clearly say that, from the month 5 to 10(May - October) the demand of the rented bike is high as compare to other months. These months come inside the summer season."
      ],
      "metadata": {
        "id": "UxZffUssVZHL"
      }
    },
    {
      "cell_type": "markdown",
      "source": [
        "#   Weekdays_weekend"
      ],
      "metadata": {
        "id": "Ev4E-2HeVxA1"
      }
    },
    {
      "cell_type": "code",
      "source": [
        "# analysis of data by visualization\n",
        "\n",
        "fig,ax=plt.subplots(figsize=(8,6))\n",
        "sns.barplot(data=bike_df,x='weekdays_weekend',y='Rented_Bike_Count',ax=ax,capsize=.2)\n",
        "ax.set(title='Count of Rented bikes according to weekdays_weekend')"
      ],
      "metadata": {
        "id": "kUImBfsjV0p5"
      },
      "execution_count": null,
      "outputs": []
    },
    {
      "cell_type": "code",
      "source": [
        "# analysis of data by visualization\n",
        "\n",
        "fig,ax=plt.subplots(figsize=(12,7))\n",
        "sns.pointplot(data=bike_df,x='Hour',y='Rented_Bike_Count',hue='weekdays_weekend',ax=ax)\n",
        "ax.set(title='Count of Rented bikes according to weekdays_weekend')"
      ],
      "metadata": {
        "id": "tszPs9AmWkrQ"
      },
      "execution_count": null,
      "outputs": []
    },
    {
      "cell_type": "markdown",
      "source": [
        "*   From the above point plot and bar plot we can say that, in the week days which represent in blue colur show that the demand of the bike higher because of the office hours.\n",
        "\n",
        "*   Peak time are 7 am to 9 am and 5 pm to 7 pm.\n",
        "\n",
        "*   The orange colour represent the weekend days, and it show that the demand of rented bikes are very low specially in the morning hour but when the evening hour from 4 pm to 8 pm the demand slighty increases."
      ],
      "metadata": {
        "id": "aK-GGpYSoWH8"
      }
    },
    {
      "cell_type": "markdown",
      "source": [
        "### Hour"
      ],
      "metadata": {
        "id": "3RnN4peoiCZX"
      }
    },
    {
      "cell_type": "code",
      "source": [
        "# Analysis of data by vizualisation\n",
        "\n",
        "fig,ax=plt.subplots(figsize=(12,7))\n",
        "sns.barplot(data=bike_df,x='Hour',y='Rented_Bike_Count',ax=ax,capsize=.2)\n",
        "ax.set(title='Count of Rented bikes according to Hour')"
      ],
      "metadata": {
        "id": "4CkvbW_SlZ_R"
      },
      "execution_count": null,
      "outputs": []
    },
    {
      "cell_type": "markdown",
      "source": [
        "*   In the above plot which shows, the use of rented bike according the hours and the data are from all over the years.\n",
        "\n",
        "*   Generally people use rented bikes during their working hour from 7 am to 9 am and 5 pm to 7 pm."
      ],
      "metadata": {
        "id": "bCPi33JIqq_U"
      }
    },
    {
      "cell_type": "markdown",
      "source": [
        "### Functioning Day"
      ],
      "metadata": {
        "id": "x71ZqKXriCWQ"
      }
    },
    {
      "cell_type": "code",
      "source": [
        "fig,ax=plt.subplots(figsize=(8,6))\n",
        "sns.barplot(data=bike_df,x='Functioning_Day',y='Rented_Bike_Count',ax=ax,capsize=.2)\n",
        "ax.set(title='Count of Rented bikes according to Functioning Day')"
      ],
      "metadata": {
        "id": "LWNFOSvLl09H"
      },
      "execution_count": null,
      "outputs": []
    },
    {
      "cell_type": "code",
      "source": [
        "# analysis of data by vizualization\n",
        "\n",
        "fig,ax=plt.subplots(figsize=(12,7))\n",
        "sns.pointplot(data=bike_df,x='Hour',y='Rented_Bike_Count',hue='Functioning_Day',ax=ax)\n",
        "ax.set(title='Count of Rented bikes according to Functioning Day')"
      ],
      "metadata": {
        "id": "tNfcsshUs_Mv"
      },
      "execution_count": null,
      "outputs": []
    },
    {
      "cell_type": "markdown",
      "source": [
        "*   In the above bar plot and point plot which shows the use of rented bikes in functioning day or non functioning day, and it clearly shows that  people don't use rented bikes in no functioning day."
      ],
      "metadata": {
        "id": "TqnHXPzcuqTo"
      }
    },
    {
      "cell_type": "markdown",
      "source": [
        "#   Seasons"
      ],
      "metadata": {
        "id": "i6JST6nVvFFM"
      }
    },
    {
      "cell_type": "code",
      "source": [
        "# Analysis of data by vizualization\n",
        "fig,ax=plt.subplots(figsize=(12,6))\n",
        "sns.barplot(data=bike_df,x='Seasons',y='Rented_Bike_Count',ax=ax,capsize=.2)\n",
        "ax.set(title='Count of Rented bikes according to Seasons')"
      ],
      "metadata": {
        "id": "tawMfcfOvJwb"
      },
      "execution_count": null,
      "outputs": []
    },
    {
      "cell_type": "code",
      "source": [
        "# Analysis of data by vizualisation\n",
        "fig,ax=plt.subplots(figsize=(12,6))\n",
        "sns.pointplot(data=bike_df,x='Hour',y='Rented_Bike_Count',hue='Seasons',ax=ax)\n",
        "ax.set(title='Count of Rented bikes according to Seasons')"
      ],
      "metadata": {
        "id": "zMGbDiwDu62l"
      },
      "execution_count": null,
      "outputs": []
    },
    {
      "cell_type": "markdown",
      "source": [
        "*   In the above bar plot and point plot which shows, the use of rented bike in four different seasons and it clearly shows that,\n",
        "*   In summer season the use of rented bike is high and peak time is 7am-9am and 5pm-7pm.\n",
        "*   In winter season the use of rented bike is very low maybe because of snowfall, fog, cold etc."
      ],
      "metadata": {
        "id": "OObDfgBlvepl"
      }
    },
    {
      "cell_type": "markdown",
      "source": [
        "# Holiday"
      ],
      "metadata": {
        "id": "Z2pVltVYwDGx"
      }
    },
    {
      "cell_type": "code",
      "source": [
        "fig,ax=plt.subplots(figsize=(5,6))\n",
        "sns.barplot(data=bike_df,x='Holiday',y='Rented_Bike_Count',ax=ax,capsize=.2)\n",
        "ax.set(title='Count of rented bikes according to holiday')"
      ],
      "metadata": {
        "id": "Vij9VwRNwF2t"
      },
      "execution_count": null,
      "outputs": []
    },
    {
      "cell_type": "code",
      "source": [
        "# Analysis of data by vizualisation\n",
        "fig,ax=plt.subplots(figsize=(12,6))\n",
        "sns.pointplot(data=bike_df,x='Hour',y='Rented_Bike_Count',hue='Holiday',ax=ax)\n",
        "ax.set(title='Count of Rented bike according to holiday')"
      ],
      "metadata": {
        "id": "MXnHtiYKwwqf"
      },
      "execution_count": null,
      "outputs": []
    },
    {
      "cell_type": "markdown",
      "source": [
        "*   In the above bar plot and point plot which shows the use of rented bike in a holiday, and it clearly shows that\n",
        "*   In holiday, people uses the rented bike from 2pm-8pm."
      ],
      "metadata": {
        "id": "poemIUD3xaC7"
      }
    },
    {
      "cell_type": "markdown",
      "source": [
        "# Analyze of Numerical variables"
      ],
      "metadata": {
        "id": "4Mp3y32_xvvb"
      }
    },
    {
      "cell_type": "markdown",
      "source": [
        "What is Numerical data\n",
        "\n",
        "*   Numerical data is a data type expressed in numbers, rather than natural language descriptions. Sometimes called quantitive data, numerical data is always collected in number form. Numerical data differentiate itself from other number from data types with its ability to carry out arithmetic operations with these numbers."
      ],
      "metadata": {
        "id": "ftQ2zepzx2sj"
      }
    },
    {
      "cell_type": "markdown",
      "source": [
        "# Pays little attention to the skewness of our numerical features"
      ],
      "metadata": {
        "id": "dqCoEZEuymGG"
      }
    },
    {
      "cell_type": "code",
      "source": [
        "# Separate numerical features from the dataframe\n",
        "numeric_features=bike_df.select_dtypes(exclude=['object','category'])\n",
        "numeric_features"
      ],
      "metadata": {
        "id": "Hd0rAqVVyvAe"
      },
      "execution_count": null,
      "outputs": []
    },
    {
      "cell_type": "code",
      "source": [
        "# Printing displots to analyze the distribution of all numerical features\n",
        "\n",
        "n=1\n",
        "plt.figure(figsize=(15,10))\n",
        "for i in numeric_features.columns:\n",
        "  plt.subplot(3,3,n)\n",
        "  n=n+1\n",
        "  sns.distplot(bike_df[i])\n",
        "  plt.title(i)\n",
        "  plt.tight_layout()"
      ],
      "metadata": {
        "id": "YhhsjegKzeH7"
      },
      "execution_count": null,
      "outputs": []
    },
    {
      "cell_type": "markdown",
      "source": [
        "# Right skewed columns are\n",
        "\n",
        "rented Bike count (its our dependent variable). Wind Speed(m/s). Solar Radiation(MJ/m2). Rainfall(mm). Snowfall(cm)"
      ],
      "metadata": {
        "id": "CqipiTK70xu3"
      }
    },
    {
      "cell_type": "markdown",
      "source": [
        "# Left skewed columns are\n",
        "\n",
        "Visibility(10m). Dew point temperature(*c)"
      ],
      "metadata": {
        "id": "7EtWop1L1M2u"
      }
    },
    {
      "cell_type": "markdown",
      "source": [
        "Lets try to find how is the relation of numerical features with our dependent variable."
      ],
      "metadata": {
        "id": "9tMTT4Zf1owS"
      }
    },
    {
      "cell_type": "markdown",
      "source": [
        "# Numerical VS Rented Bike Count"
      ],
      "metadata": {
        "id": "pRcUEVUR1zPE"
      }
    },
    {
      "cell_type": "code",
      "source": [
        "# Print the plot to analyze the relationship between \"Rented_Bike_Count\" and \"Temperature\"\n",
        "# Convert 'Temperature' to numeric before grouping\n",
        "bike_df['Temperature'] = bike_df['Temperature'].astype(float)\n",
        "\n",
        "# Now proceed with the grouping and plotting\n",
        "bike_df.groupby('Temperature').mean()['Rented_Bike_Count'].plot()"
      ],
      "metadata": {
        "id": "uO3zuglEnMoz"
      },
      "execution_count": null,
      "outputs": []
    },
    {
      "cell_type": "markdown",
      "source": [
        "*   From the above plot we see that, people like to ride bikes when it is pretty hot around 25*C in average."
      ],
      "metadata": {
        "id": "Wt9l3SCvn1B1"
      }
    },
    {
      "cell_type": "code",
      "source": [
        "# Print the plot to analyze the relationship between \"Rented_Bike_Count\" and \"Dew_point_temperature\"\n",
        "bike_df.groupby('Dew_point_temperature').mean()['Rented_Bike_Count'].plot()"
      ],
      "metadata": {
        "id": "r0zlhZDEoG2Y"
      },
      "execution_count": null,
      "outputs": []
    },
    {
      "cell_type": "markdown",
      "source": [
        "*   From the plot of \"Dew_point_temperature\" is almost same as \"temperature\" there is some similarity present we can check it in our next step."
      ],
      "metadata": {
        "id": "JJrgG1nBonV7"
      }
    },
    {
      "cell_type": "code",
      "source": [
        "# Print the plot to analyze the relationship between \"Rented_Bike_Count\" and \"Solar_Radiation\"\n",
        "bike_df.groupby('Solar_Radiation').mean()['Rented_Bike_Count'].plot()"
      ],
      "metadata": {
        "id": "SVqZup1yo9Yn"
      },
      "execution_count": null,
      "outputs": []
    },
    {
      "cell_type": "markdown",
      "source": [
        "*   From the above plot we can see that, the amount of rented bike is huge, when there is solar radiation, the count of rents is around 1000."
      ],
      "metadata": {
        "id": "gfMdDDX2pV_0"
      }
    },
    {
      "cell_type": "code",
      "source": [
        "# Print the plot to analyze the relationship between \"Rented_Bike_Count\" and \"Snowfall\"\n",
        "bike_df.groupby('Snowfall').mean()['Rented_Bike_Count'].plot()"
      ],
      "metadata": {
        "id": "gifYdn2xplTC"
      },
      "execution_count": null,
      "outputs": []
    },
    {
      "cell_type": "markdown",
      "source": [
        "*   We can see from the point plot that on the y-axis the amount of rented bike is very low. When we have more than 4 cm of snow, the bike rents is very low."
      ],
      "metadata": {
        "id": "smAIqI-XwKuZ"
      }
    },
    {
      "cell_type": "code",
      "source": [
        "# Print the plot to analyze the relationship between \"Rented_Bike_Count\" and \"Rainfall\"\n",
        "bike_df.groupby('Rainfall').mean()['Rented_Bike_Count'].plot()"
      ],
      "metadata": {
        "id": "kcy43kbxoGx7"
      },
      "execution_count": null,
      "outputs": []
    },
    {
      "cell_type": "markdown",
      "source": [
        "*   We can see from the above plot that, even if it rains a lot the demand of rented bikes is not decreasing, here for example even if we have 20mm of rain there is a big peak of rented bikes."
      ],
      "metadata": {
        "id": "SDFU6-q7wq9R"
      }
    },
    {
      "cell_type": "code",
      "source": [
        "# Print the plot to analyze the relationship between \"Rented_Bike_Count\" and \"Wind_speed\"\n",
        "bike_df.groupby('Wind_speed').mean()['Rented_Bike_Count'].plot()"
      ],
      "metadata": {
        "id": "Q2LKaDVxxCV7"
      },
      "execution_count": null,
      "outputs": []
    },
    {
      "cell_type": "markdown",
      "source": [
        "*   We can see from the above plot that, the demand of rented bike is uniformly distribute despite of wind speed but when the speed of wind is 7m/s the demand of bike also increase that clearly means people love to ride bikes when its little windy."
      ],
      "metadata": {
        "id": "RPdw0W1uxVTA"
      }
    },
    {
      "cell_type": "code",
      "source": [
        "#plotting histogram of all the numeric features of the dataset\n",
        "for col in numeric_features[:]:\n",
        "  fig=plt.figure()\n",
        "  ax=fig.gca()\n",
        "  feature=bike_df[col]\n",
        "  feature.hist(bins=50,ax=ax)\n",
        "  ax.axvline(feature.mean(), color='magenta', linestyle='dashed', linewidth=2)\n",
        "  ax.axvline(feature.median(), color='cyan', linestyle='dashed', linewidth=2)\n",
        "  ax.set_title(col)"
      ],
      "metadata": {
        "id": "D93uu_mmD05H"
      },
      "execution_count": null,
      "outputs": []
    },
    {
      "cell_type": "markdown",
      "source": [
        "# REGRESSION PLOT"
      ],
      "metadata": {
        "id": "XbEayUKSxxTc"
      }
    },
    {
      "cell_type": "markdown",
      "source": [
        "The regression plot is seaborn are primarily intended to add a visual guide that helps to emphasize patterns in a dataset during exploratory data analysis. Regression plots as the name suggests creates a regression line between 2 parameters and helps to visualize their linear relationships."
      ],
      "metadata": {
        "id": "4IIZuAaIx0jh"
      }
    },
    {
      "cell_type": "code",
      "source": [
        "# Printing the regression plot for all the numerical features\n",
        "for col in numeric_features:\n",
        "  fig,ax=plt.subplots(figsize=(8,4))\n",
        "  sns.regplot(x=bike_df[col],y=bike_df['Rented_Bike_Count'],scatter_kws={\"color\": 'orange'}, line_kws={\"color\": \"black\"})"
      ],
      "metadata": {
        "id": "QQ-seUHgyg2V"
      },
      "execution_count": null,
      "outputs": []
    },
    {
      "cell_type": "markdown",
      "source": [
        "*   From the above regression plot of all numerical features we see that the columns 'Temperature', 'Wind_speed', 'Visibility', 'Dew_point_temperature, 'Solar_Radiation' are positively relation to the target variable.\n",
        "*   Which means the rented bike count increases of the features.\n",
        "*   'Rainfall','Snowfall','Humidity' these features are negatively related with the target variable which means the rented bike count decreases when these features increases."
      ],
      "metadata": {
        "id": "3aKN7bxQzurq"
      }
    },
    {
      "cell_type": "markdown",
      "source": [
        "# Normalise Rented_Bike_Count column data\n",
        "\n",
        "*   The data normalization (also reffered to as data pre-processing) is a basic element of data mining. It means transforming the data, namely converting the source data into another format that allows processing data effectively. The main purpose of data normalization is to minimize or even exclude duplicated data."
      ],
      "metadata": {
        "id": "Am3GtDFt3xUZ"
      }
    },
    {
      "cell_type": "code",
      "source": [
        "# Distribution plot of Rented Bike count\n",
        "plt.figure(figsize=(10,6))\n",
        "plt.xlabel('Rented_Bike_Count')\n",
        "plt.ylabel('Density')\n",
        "ax=sns.distplot(bike_df['Rented_Bike_Count'],hist=True, color=\"y\")\n",
        "ax.axvline(bike_df['Rented_Bike_Count'].mean(), color='magenta', linestyle='dashed', linewidth=2)\n",
        "ax.axvline(bike_df['Rented_Bike_Count'].median(), color='black', linestyle='dashed', linewidth=2)\n",
        "plt.show()"
      ],
      "metadata": {
        "id": "5d7a4KeW4ccu"
      },
      "execution_count": null,
      "outputs": []
    },
    {
      "cell_type": "markdown",
      "source": [
        "*   The above graph shows that, Rented Bike Count has moderate right skewness. Since the assumption of linear regression is that the distribution of dependent variable has to be normal, so we should perform some operation to make it normal."
      ],
      "metadata": {
        "id": "7LfgU-tL57Si"
      }
    },
    {
      "cell_type": "markdown",
      "source": [
        "# Finding outliers and treatment"
      ],
      "metadata": {
        "id": "5tDsgrZ46dFQ"
      }
    },
    {
      "cell_type": "code",
      "source": [
        "# Boxplot for rented bike count to check outliers\n",
        "plt.figure(figsize=(10,6))\n",
        "plt.ylabel('Rented_Bike_Count')\n",
        "sns.boxplot(x=bike_df['Rented_Bike_Count'])\n",
        "plt.show()"
      ],
      "metadata": {
        "id": "J-PLCduc6njp"
      },
      "execution_count": null,
      "outputs": []
    },
    {
      "cell_type": "code",
      "source": [
        "# Outliers treatments\n",
        "bike_df.loc[bike_df['Rainfall']>4,'Rainfall']=4\n",
        "bike_df.loc[bike_df['Solar_Radiation']>=2.5,'Solar_Radiation']=2.5\n",
        "bike_df.loc[bike_df['Snowfall']>2,'Snowfall']=2\n",
        "bike_df.loc[bike_df['Wind_speed']>=4,'Wind_speed']=4"
      ],
      "metadata": {
        "id": "p-IROBgZ7BF6"
      },
      "execution_count": null,
      "outputs": []
    },
    {
      "cell_type": "markdown",
      "source": [
        "we have applied outlier treatment techniques to the dataset by replacing the outliers with the maximum values."
      ],
      "metadata": {
        "id": "XvdmguS576bC"
      }
    },
    {
      "cell_type": "code",
      "source": [
        "# Applying square root to Rented Bike Count to improve skewness\n",
        "plt.figure(figsize=(8,6))\n",
        "plt.xlabel('Rented_Bike_Count')\n",
        "plt.ylabel('Density')\n",
        "ax=sns.distplot(np.sqrt(bike_df['Rented_Bike_Count']), color=\"y\")\n",
        "ax.axvline(np.sqrt(bike_df['Rented_Bike_Count']).mean(), color='magenta', linestyle='dashed', linewidth=2)\n",
        "ax.axvline(np.sqrt(bike_df['Rented_Bike_Count']).median(), color='black', linestyle='dashed', linewidth=2)\n",
        "plt.show()"
      ],
      "metadata": {
        "id": "T0AtdfsC8JjW"
      },
      "execution_count": null,
      "outputs": []
    },
    {
      "cell_type": "markdown",
      "source": [
        "*   Since we have generic rule of applying Square root for the skewed variable inorder to make it normal. After applying square root to the skewed Rented Bike Count, here we get almost normal distribution."
      ],
      "metadata": {
        "id": "j6hSbwh89aSJ"
      }
    },
    {
      "cell_type": "code",
      "source": [
        "# After applying sqrt on Rented Bike Count check wheater we still have outliers\n",
        "plt.figure(figsize=(10,6))\n",
        "\n",
        "plt.ylabel('Rented_Bike_Count')\n",
        "sns.boxplot(x=np.sqrt(bike_df['Rented_Bike_Count']))\n",
        "plt.show()"
      ],
      "metadata": {
        "id": "icfV5bgU-FT8"
      },
      "execution_count": null,
      "outputs": []
    },
    {
      "cell_type": "code",
      "source": [
        "# Regression plot to know relation with our independent variable\n",
        "n=1\n",
        "plt.figure(figsize=(15,15))\n",
        "for i in numeric_features.columns:\n",
        "  if i == 'Rented_Bike_Count':\n",
        "    pass\n",
        "  else:\n",
        "    plt.subplot(4,2,n)\n",
        "    n+=1\n",
        "    sns.regplot(x=bike_df[i], y=bike_df['Rented_Bike_Count'],scatter_kws={\"color\": \"cyan\"}, line_kws={\"color\": \"red\"})\n",
        "    plt.title(f'Dependend variable and {i}')\n",
        "    plt.tight_layout()"
      ],
      "metadata": {
        "id": "rksOYS7SF4py"
      },
      "execution_count": null,
      "outputs": []
    },
    {
      "cell_type": "markdown",
      "source": [
        "*  After applying square root to the rented bike count column, we find that there is no outliers present."
      ],
      "metadata": {
        "id": "Mi1B9nfO-2xO"
      }
    },
    {
      "cell_type": "code",
      "source": [
        "# Calculate correlations for numeric columns only\n",
        "bike_df.corr(numeric_only=True)"
      ],
      "metadata": {
        "id": "Hqpooni-Hv-2"
      },
      "execution_count": null,
      "outputs": []
    },
    {
      "cell_type": "markdown",
      "source": [
        "# Checking of Correlation between variables"
      ],
      "metadata": {
        "id": "2yVuLIyqiqwA"
      }
    },
    {
      "cell_type": "markdown",
      "source": [
        "Checking in OLS Model"
      ],
      "metadata": {
        "id": "GgkS7-QPiyyn"
      }
    },
    {
      "cell_type": "markdown",
      "source": [
        "Ordinary least squares (OLS) regression is a statistical method of analysis that estimates the relationship between one or more independent variables and a dependent variable."
      ],
      "metadata": {
        "id": "T7aAsvpFi3ee"
      }
    },
    {
      "cell_type": "code",
      "source": [
        "# Import the module\n",
        "# Assign the 'X', 'Y' value\n",
        "import statsmodels.api as sm\n",
        "X = bike_df[['Temperature', 'Humidity', 'Wind_speed', 'Visibility', 'Dew_point_temperature', 'Solar_Radiation', 'Rainfall', 'Snowfall']]\n",
        "Y = bike_df['Rented_Bike_Count']\n",
        "bike_df.head()"
      ],
      "metadata": {
        "id": "i_5WYmyhjKIV"
      },
      "execution_count": null,
      "outputs": []
    },
    {
      "cell_type": "code",
      "source": [
        "# Add a constant column\n",
        "X = sm.add_constant(X)\n",
        "X"
      ],
      "metadata": {
        "id": "S6TQjjrgj6wO"
      },
      "execution_count": null,
      "outputs": []
    },
    {
      "cell_type": "code",
      "source": [
        "# Fit in OLS Model\n",
        "model=sm.OLS(Y,X).fit()\n",
        "model.summary()"
      ],
      "metadata": {
        "id": "0BGzP53dkJ-G"
      },
      "execution_count": null,
      "outputs": []
    },
    {
      "cell_type": "markdown",
      "source": [
        "*  R squaree and Adj Square are near to each other. 40% of variance in the Rented Bike count is explained by the model.\n",
        "\n",
        "*  For F statistic, P value is less than 0.05 for 5% level of significance.\n",
        "\n",
        "*  P value of dew point temperature and visibility are very high and they are not significant.\n",
        "\n",
        "*  Omnibus tests the skewness and kurtosis of the residuals. Here the value of omnibus is high, it shows we have skewness in our data.\n",
        "\n",
        "*  The condition number is large  3.13e+04. This might indicate that there are strong multicollinearity or other numerical problems.\n",
        "\n",
        "*  Durbin-Watson tests the autocorrelation of the residuals. Here value is less than 0.5. We can say that there exists a positive auto correlation among the variables."
      ],
      "metadata": {
        "id": "6uwaZgw0kcgd"
      }
    },
    {
      "cell_type": "code",
      "source": [
        "X.corr()"
      ],
      "metadata": {
        "id": "LcUt_KVumKQ2"
      },
      "execution_count": null,
      "outputs": []
    },
    {
      "cell_type": "markdown",
      "source": [
        "*  From the OLS model we find that the 'Temperature' and the 'Dew_point_temperature' are highly correlated so we need to drop one of them.\n",
        "\n",
        "*  For dropping them we need to check the (P>|t|) value from the above table and we can see that the 'Dew_point_temperature' value is higher so we need to drop Dew_point_temperature column.\n",
        "\n",
        "*  For clarity, we use visualisation i.e heatmap in next step."
      ],
      "metadata": {
        "id": "n-mprkXomQI4"
      }
    },
    {
      "cell_type": "markdown",
      "source": [
        "#   Heatmap"
      ],
      "metadata": {
        "id": "ZNBZ_43QnKQ5"
      }
    },
    {
      "cell_type": "markdown",
      "source": [
        "A correlation Heatmap is a type of graphical representation that displays the correlation matrix, which helps to determine the correlation between different variables."
      ],
      "metadata": {
        "id": "AvW_VoCanM3M"
      }
    },
    {
      "cell_type": "code",
      "source": [
        "# Checking correlation using heatmap.\n",
        "plt.figure(figsize=(10,6))\n",
        "sns.heatmap(bike_df.select_dtypes(include=['number']).corr(),cmap='PiYG',annot=True)\n",
        "# Select only numerical columns for correlation calculation"
      ],
      "metadata": {
        "id": "EMN_ciZinjPZ"
      },
      "execution_count": null,
      "outputs": []
    },
    {
      "cell_type": "markdown",
      "source": [
        "We can observe on the heatmap that on the target variable line, the most positively correlated variables to the rent are:\n",
        "\n",
        "*  the temperature\n",
        "*  the dew point temperature\n",
        "*  the solar radiation\n",
        "\n",
        "And most negatively correlated variable are:\n",
        "\n",
        "*  humidity\n",
        "*  rainfall\n",
        "\n",
        "From the above correlation heatmap, we see that there is a positive correlation between columns 'Temperature' and 'Dew point temperature' i.e 0.91 so even if we drop this column then it won't affect the outcome of our analysis. And they have the same variations, so we can drop the column 'Dew point temperature'."
      ],
      "metadata": {
        "id": "P7Whj-X-oBYZ"
      }
    },
    {
      "cell_type": "code",
      "source": [
        "# Drop the Dew Point temperature column\n",
        "bike_df=bike_df.drop(['Dew_point_temperature'],axis=1)"
      ],
      "metadata": {
        "id": "ZU7njFjqqM3f"
      },
      "execution_count": null,
      "outputs": []
    },
    {
      "cell_type": "code",
      "source": [
        "bike_df.info()"
      ],
      "metadata": {
        "id": "mwuvvH9qqeKM"
      },
      "execution_count": null,
      "outputs": []
    },
    {
      "cell_type": "markdown",
      "source": [
        "**Feature Engineering and Data Pre-processing**"
      ],
      "metadata": {
        "id": "710fX39JqlPy"
      }
    },
    {
      "cell_type": "markdown",
      "source": [
        "## Create the dummy variables\n"
      ],
      "metadata": {
        "id": "Zam3ruGsquAa"
      }
    },
    {
      "cell_type": "markdown",
      "source": [
        "A dataset may contain various types of values, sometimes it consists of categorical values. So, in-order to use those categorical value for programming efficiently we create dummy variables."
      ],
      "metadata": {
        "id": "RQj5aXrtrF4Q"
      }
    },
    {
      "cell_type": "code",
      "source": [
        "# Assign all categorical features to a variable\n",
        "categorical_features=list(bike_df.select_dtypes(['object','category']).columns)\n",
        "categorical_features=pd.Index(categorical_features)\n",
        "categorical_features"
      ],
      "metadata": {
        "id": "M0nTBv9NrZ7H"
      },
      "execution_count": null,
      "outputs": []
    },
    {
      "cell_type": "markdown",
      "source": [
        "# One hot encoding"
      ],
      "metadata": {
        "id": "8G3cqMzYsCi7"
      }
    },
    {
      "cell_type": "markdown",
      "source": [
        "A one hot encoding allows the representation of categorical data to be more expensive. Many mchine learning algorithms cannot work with categorical data directly. The categories must be converted into numbers. This is required for both input and output variables that are categorical."
      ],
      "metadata": {
        "id": "CrVL5L3rsHqz"
      }
    },
    {
      "cell_type": "code",
      "source": [
        "# Create a copy\n",
        "bike_df_copy = bike_df\n",
        "\n",
        "def one_hot_encoding(data,column):\n",
        "  data = pd.concat([data, pd.get_dummies(data[column], prefix=column, drop_first=True)], axis=1)\n",
        "  data = data.drop([column], axis=1)\n",
        "  return data\n",
        "\n",
        "for col in categorical_features:\n",
        "  bike_df_copy = one_hot_encoding(bike_df_copy, col)\n",
        "bike_df_copy.head()"
      ],
      "metadata": {
        "id": "16o5cYrhspFx"
      },
      "execution_count": null,
      "outputs": []
    },
    {
      "cell_type": "markdown",
      "source": [
        "# Model Training"
      ],
      "metadata": {
        "id": "6xvbfYE6t-Gp"
      }
    },
    {
      "cell_type": "markdown",
      "source": [
        "#Tarin Test split for regression\n",
        "\n",
        "Before, fitting sny model it is a rule of thumb to split the dataset into a training and test set. This means some proportions of the data will go into training the model and some portion will be used to evaluate how our model is performing on any unseen data. The proportions may vary from 60:40, 70:30, 75:25 depending on the person but mostly used is 80:20 for traing and testing respectively. In this step we will split our data into training and testing set using scikit learn library.\n"
      ],
      "metadata": {
        "id": "MOixdizUuEzl"
      }
    },
    {
      "cell_type": "code",
      "source": [
        "# Assign the value in X and Y\n",
        "X= bike_df_copy.drop(columns=['Rented_Bike_Count'], axis=1)\n",
        "Y = np.sqrt(bike_df_copy['Rented_Bike_Count'])"
      ],
      "metadata": {
        "id": "uXzm_PYAvLeU"
      },
      "execution_count": null,
      "outputs": []
    },
    {
      "cell_type": "code",
      "source": [
        "X.head()"
      ],
      "metadata": {
        "id": "BPqrImaTviRQ"
      },
      "execution_count": null,
      "outputs": []
    },
    {
      "cell_type": "code",
      "source": [
        "Y.head()"
      ],
      "metadata": {
        "id": "XG_6-271vn4G"
      },
      "execution_count": null,
      "outputs": []
    },
    {
      "cell_type": "code",
      "source": [
        "# Create test and train data\n",
        "from sklearn.model_selection import train_test_split\n",
        "X_train, X_test, y_train, y_test = train_test_split(X,Y, test_size=0.25, random_state=0)\n",
        "print(X_train.shape)\n",
        "print(X_test.shape)"
      ],
      "metadata": {
        "id": "fgyHgf25vrv5"
      },
      "execution_count": null,
      "outputs": []
    },
    {
      "cell_type": "code",
      "source": [
        "bike_df_copy.info()"
      ],
      "metadata": {
        "id": "OrbbZ87zwdf3"
      },
      "execution_count": null,
      "outputs": []
    },
    {
      "cell_type": "code",
      "source": [
        "bike_df_copy.describe().columns"
      ],
      "metadata": {
        "id": "tKifVICFwlBy"
      },
      "execution_count": null,
      "outputs": []
    },
    {
      "cell_type": "markdown",
      "source": [
        "*  The mean squared error (MSE) tells you how close a regression line is to set of points. It does this by taking the distances from the points to the regression line (these distances are the \"errors\") and squaring them. Its called the mean squared error as you are finding the avg of a set errors. The lower the MSE, the better the forecast.\n",
        "\n",
        "*  MSE formula = (1/n)* all(actual-forecast)2 where:\n",
        "\n",
        "*  n= number of items\n",
        "*  all= summation notation\n",
        "*  Actual = original or observed y-value\n",
        "*  Forecast = y-value from regression\n",
        "*  Root Mena Square Error (RMSE) is the standard deviation of the residuals (prediction errors)\n",
        "*  Mean Absolute Error (MAE) are metrics used to evaluate a Regression Model. Here erros are the difference between the predicted values (values predectied by the regression model) and the actual value of a variable.\n",
        "*  R - Squared (R2) is a statistical measure that represents the propotion of the variance for a dependent variable thats explained by an independent variable or variables in a regression model.\n",
        "*  R2 =1-Total Variation Unexplained Variation.\n",
        "* Adjusted R-Squared is a modified version of R-Squared that has been adjusted for the number of predections in the model."
      ],
      "metadata": {
        "id": "bTBapN7Xw4H-"
      }
    },
    {
      "cell_type": "markdown",
      "source": [
        "# LINEAR REGRESSION"
      ],
      "metadata": {
        "id": "IguF29cPO-ES"
      }
    },
    {
      "cell_type": "markdown",
      "source": [
        "Regression models describe the relationship between variables by fitting a line to the observed data. Linear regression models use a staright line.\n",
        "\n",
        "Linear Regression uses a linear approach to model the relationship between independent and dependent variables. In simple words its a best fit line drawn over the values of independent variables . In case of single variable, the formula is same as staright line equation having an intercept and slope."
      ],
      "metadata": {
        "id": "wDkxQuBOPBR-"
      }
    },
    {
      "cell_type": "code",
      "source": [
        "# Import the packages\n",
        "from sklearn.linear_model import LinearRegression\n",
        "reg = LinearRegression().fit(X_train, y_train)"
      ],
      "metadata": {
        "id": "vdn_dcXGQOds"
      },
      "execution_count": null,
      "outputs": []
    },
    {
      "cell_type": "code",
      "source": [
        "# Check the score\n",
        "reg.score(X_train, y_train)"
      ],
      "metadata": {
        "id": "lzHC3qhfRC4Q"
      },
      "execution_count": null,
      "outputs": []
    },
    {
      "cell_type": "code",
      "source": [
        "# Check the coefficient\n",
        "reg.coef_"
      ],
      "metadata": {
        "id": "gZS9Xxb3RLDc"
      },
      "execution_count": null,
      "outputs": []
    },
    {
      "cell_type": "code",
      "source": [
        "# Get the X_train and X-test value\n",
        "y_pred_train=reg.predict(X_train)\n",
        "y_pred_test=reg.predict(X_test)"
      ],
      "metadata": {
        "id": "_8aqQgGwRSRw"
      },
      "execution_count": null,
      "outputs": []
    },
    {
      "cell_type": "code",
      "source": [
        "# Import the packages\n",
        "from sklearn.metrics import mean_squared_error\n",
        "# calculate MSE\n",
        "MSE_Ir=mean_squared_error((y_train), (y_pred_train))\n",
        "print(\"MSE: \",MSE_Ir)\n",
        "\n",
        "# Calculate RMSE\n",
        "RMSE_Ir=np.sqrt(MSE_Ir)\n",
        "print(\"RMSE: \",RMSE_Ir)\n",
        "\n",
        "# Calculate MAE\n",
        "MAE_Ir = mean_absolute_error(y_train, y_pred_train)\n",
        "print(\"MAE: \",MAE_Ir)\n",
        "\n",
        "# Import the packages\n",
        "from sklearn.metrics import r2_score\n",
        "# Calculate r2 and adjusted r2\n",
        "r2_Ir= r2_score(y_train, y_pred_train)\n",
        "print(\"R2:\", r2_Ir)\n",
        "Adjusted_R2_Ir = (1-(1-r2_score(y_train, y_pred_train))*((X_test.shape[0]-1)/(X_test.shape[0]-X_test.shape[1]-1)))\n",
        "print (\"Adjusted R2:\",1-(1-r2_score(y_train, y_pred_train))*((X_test.shape[0]-1)/(X_test.shape[0]-X_test.shape[1]-1)))"
      ],
      "metadata": {
        "id": "tKh-jlMwRiF6"
      },
      "execution_count": null,
      "outputs": []
    },
    {
      "cell_type": "markdown",
      "source": [
        "Looks like our train sets r2 score value is 0.79 that means our model is able to capture most of the data variance. Lets save it in a dataframe for later comparisions."
      ],
      "metadata": {
        "id": "60VI7QqxUpAn"
      }
    },
    {
      "cell_type": "code",
      "source": [
        "# Storing the test set metrics value in a dataframe for later comparision\n",
        "dict1={'Model': 'Linear Regression',\n",
        "       'MAE':round((MAE_Ir),3),\n",
        "       'MSE':round((MSE_Ir),3),\n",
        "       'RMsE':round((RMSE_Ir),3),\n",
        "       'R2_score':round((r2_Ir),3),\n",
        "       'Adjusted R2':round((Adjusted_R2_Ir),2)\n",
        "       }\n",
        "training_df=pd.DataFrame(dict1,index=[1])"
      ],
      "metadata": {
        "id": "FT3-9DH6U9E-"
      },
      "execution_count": null,
      "outputs": []
    },
    {
      "cell_type": "code",
      "source": [
        "# Import the packages\n",
        "from sklearn.metrics import mean_squared_error\n",
        "# Calculate MSE\n",
        "MSE_Ir = mean_squared_error(y_test, y_pred_test)\n",
        "print(\"MSE:\",MSE_Ir)\n",
        "\n",
        "# Calculate RMSE\n",
        "RMSE_Ir=np.sqrt(MSE_Ir)\n",
        "print(\"RMSE: \",RMSE_Ir)\n",
        "\n",
        "# Calculate MAE\n",
        "MAE_Ir=mean_absolute_error(y_test, y_pred_test)\n",
        "print(\"MAE:\",MAE_Ir)\n",
        "\n",
        "# Import the packages\n",
        "from sklearn.metrics import r2_score\n",
        "# Calulate r2 and adjusted r2\n",
        "r2_Ir=r2_score((y_test), (y_pred_test))\n",
        "print(\"R2 :\",r2_Ir)\n",
        "Adjusted_R2_Ir = (1-(1-r2_score(y_test, y_pred_test))*((X_test.shape[0]-1)/(X_test.shape[0]-X_test.shape[1]-1)))\n",
        "print(\"Adjusted R2 :\",Adjusted_R2_Ir)"
      ],
      "metadata": {
        "id": "UwPnAy-5ZQN0"
      },
      "execution_count": null,
      "outputs": []
    },
    {
      "cell_type": "markdown",
      "source": [
        "The test sets r2_score is 0.80. This means our linear model is performing well on the data. Let us try to visualise our residuals and see if there is hetroscedasticity(unequal variance or scatter)."
      ],
      "metadata": {
        "id": "khxAxIaLcFYJ"
      }
    },
    {
      "cell_type": "code",
      "source": [
        "# Storing the test set metrics value in a dataframe for later comparision\n",
        "dict2={'Model': 'Linear Regression',\n",
        "       'MAE':round((MAE_Ir),3),\n",
        "       'MSE':round((MSE_Ir),3),\n",
        "       'RMSE':round((RMSE_Ir),3),\n",
        "       'R2_score':round((r2_Ir),3),\n",
        "       'Adjusted R2':round((Adjusted_R2_Ir),2)\n",
        "       }\n",
        "test_df=pd.DataFrame(dict2,index=[1])"
      ],
      "metadata": {
        "id": "YCqgCNaOckEt"
      },
      "execution_count": null,
      "outputs": []
    },
    {
      "cell_type": "markdown",
      "source": [
        "# Hetroscedasticity\n",
        "\n",
        "Hetroscedasticity refers to a situation where the variance of the errors(residuals) is not constraint across all levels of the independent variable(s)\n",
        "in a regression model. This violates one of the assumptions of linaer regression, which is that the variance of the errors should be constant (homoscedastic) for all levels of the independent variables. If the plot shows a funnel shape, with the spread of residuals increasing or decreasing as the predicted value increases, this is an indication of heteroscedasticity."
      ],
      "metadata": {
        "id": "ldkNjddedC93"
      }
    },
    {
      "cell_type": "code",
      "source": [
        "# heteroscedasticity - residual plot\n",
        "plt.scatter((y_pred_test), (y_test)-(y_pred_test))\n",
        "plt.xlabel('Predicted Values')\n",
        "plt.ylabel('Residuals')\n",
        "plt.title('Residual Plot')\n",
        "plt.show()"
      ],
      "metadata": {
        "id": "iAddTjt1fM4h"
      },
      "execution_count": null,
      "outputs": []
    },
    {
      "cell_type": "code",
      "source": [
        "# Actual Price vs predicte for Linear regression plot\n",
        "plt.figure(figsize=(10,8))\n",
        "plt.plot(y_pred_test)\n",
        "plt.plot(np.array(y_test))\n",
        "plt.legend([\"Predicted\",\"Actual\"])\n",
        "plt.xlabel('No of Test Data')\n",
        "plt.show()"
      ],
      "metadata": {
        "id": "ucmCaYkOfyOA"
      },
      "execution_count": null,
      "outputs": []
    },
    {
      "cell_type": "markdown",
      "source": [
        "# Ridge and Lasso Regression\n",
        "*  Ridge and Lasso regression are types of regularization techniques.\n",
        "*  Regularization techniques are used to deal with overfitting and when the dataset is large.\n",
        "*  Ridge and Lasso regression involve adding penalties to the regression function."
      ],
      "metadata": {
        "id": "2p8gQ_UPgXdm"
      }
    },
    {
      "cell_type": "markdown",
      "source": [
        "# Lasso Regression\n",
        "\n",
        "Lasso regression analysis is a shrinkage and variable selection method for linear regression models. The goal of lasso regression is to obtain the subset of predictors that minimize predection error for a quantitative response variable. It uses the Linear regression model with L1 regularization."
      ],
      "metadata": {
        "id": "SyAqaAaczhjw"
      }
    },
    {
      "cell_type": "code",
      "source": [
        "from sklearn.linear_model import Lasso\n",
        "from sklearn.model_selection import GridSearchCV"
      ],
      "metadata": {
        "id": "JFjaboQV0Bzl"
      },
      "execution_count": null,
      "outputs": []
    },
    {
      "cell_type": "code",
      "source": [
        "# Create an instance of Lasso Regression implementation\n",
        "from sklearn.linear_model import Lasso\n",
        "lasso=Lasso(alpha=1.0, max_iter=3000)\n",
        "# Fit the lasso model\n",
        "lasso.fit(X_train, y_train)\n",
        "# Create the model score\n",
        "print(lasso.score(X_test, y_test), lasso.score(X_train, y_train))"
      ],
      "metadata": {
        "id": "wP7RbBnb0N2Y"
      },
      "execution_count": null,
      "outputs": []
    },
    {
      "cell_type": "code",
      "source": [
        "# Get the X_train and X-test value\n",
        "y_pred_train_lasso=lasso.predict(X_train)\n",
        "y_pred_test_lasso=lasso.predict(X_test)"
      ],
      "metadata": {
        "id": "M8mcd6I61iSK"
      },
      "execution_count": null,
      "outputs": []
    },
    {
      "cell_type": "code",
      "source": [
        "from sklearn.metrics import mean_squared_error\n",
        "# Calculate MSE\n",
        "MSE_1=mean_squared_error((y_train), (y_pred_train_lasso))\n",
        "print(\"MSE: \",MSE_1)\n",
        "\n",
        "# Calculate RMSE\n",
        "RMSE_1=np.sqrt(MSE_1)\n",
        "print(\"RMSE: \",RMSE_1)\n",
        "\n",
        "# Calculate MAE\n",
        "MAE_1=mean_absolute_error(y_train, y_pred_train_lasso)\n",
        "print(\"MAE: \",MAE_1)\n",
        "\n",
        "from sklearn.metrics import r2_score\n",
        "# Calculate r2 and adjusted r2\n",
        "r2_1=r2_score(y_train, y_pred_train_lasso)\n",
        "print(\"R2: \",r2_1)\n",
        "Adjusted_R2_1 = (1-(1-r2_score(y_train, y_pred_train_lasso))*((X_test.shape[0]-1)/(X_test.shape[0]-X_test.shape[1]-1)))\n",
        "print(\"Adjusted R2 :\", 1-(1-r2_score(y_train, y_pred_train_lasso))*((X_test.shape[0]-1)/(X_test.shape[0]-X_test.shape[1]-1)))"
      ],
      "metadata": {
        "id": "0l7BWgeO2DjA"
      },
      "execution_count": null,
      "outputs": []
    },
    {
      "cell_type": "markdown",
      "source": [
        "Looks like train sets r2 score value is 0.39 that means our model is not able to capture most of the data variance. Lets save it in a dataframe for later comparisions."
      ],
      "metadata": {
        "id": "vTPfbeyE4N6O"
      }
    },
    {
      "cell_type": "code",
      "source": [
        "# Storing the test set metrics value in a dataframe for later comparision\n",
        "dict1={'Model': 'Linear Regression',\n",
        "       'MAE':round((MAE_1),3),\n",
        "       'MSE':round((MSE_1),3),\n",
        "       'RMsE':round((RMSE_1),3),\n",
        "       'R2_score':round((r2_1),3),\n",
        "       'Adjusted R2':round((Adjusted_R2_1),2)\n",
        "       }\n",
        "\n",
        "# Create a DataFrame from the dictionary\n",
        "df_new_row = pd.DataFrame([dict1])\n",
        "\n",
        "# If 'training_df' already exists, concatenate\n",
        "if 'training_df' in locals():\n",
        "    training_df = pd.concat([training_df, df_new_row], ignore_index=True)\n",
        "# Otherwise, initialize 'training_df'\n",
        "else:\n",
        "    training_df = df_new_row"
      ],
      "metadata": {
        "id": "uB7CEysP4irH"
      },
      "execution_count": null,
      "outputs": []
    },
    {
      "cell_type": "code",
      "source": [
        "from sklearn.metrics import mean_squared_error\n",
        "# Calculate MSE\n",
        "MSE_1=mean_squared_error((y_test), (y_pred_test_lasso))\n",
        "print(\"MSE: \",MSE_1)\n",
        "\n",
        "# Calculate RMSE\n",
        "RMSE_1=np.sqrt(MSE_1)\n",
        "print(\"RMSE: \",RMSE_1)\n",
        "\n",
        "# Calculate MAE\n",
        "MAE_1=mean_absolute_error(y_test, y_pred_test_lasso)\n",
        "print(\"MAE: \",MAE_1)\n",
        "\n",
        "from sklearn.metrics import r2_score\n",
        "# Calculate r2 and adjusted r2\n",
        "r2_1=r2_score(y_test, y_pred_test_lasso)\n",
        "print(\"R2: \",r2_1)\n",
        "Adjusted_R2_1 = (1-(1-r2_score(y_test, y_pred_test_lasso))*((X_test.shape[0]-1)/(X_test.shape[0]-X_test.shape[1]-1)))\n",
        "print(\"Adjusted R2 :\", 1-(1-r2_score(y_test, y_pred_test_lasso))*((X_test.shape[0]-1)/(X_test.shape[0]-X_test.shape[1]-1)))"
      ],
      "metadata": {
        "id": "mCTpKcwHDJU5"
      },
      "execution_count": null,
      "outputs": []
    },
    {
      "cell_type": "markdown",
      "source": [
        "The test sets r2 score is 0.38. This means our linear model is not performing well on data."
      ],
      "metadata": {
        "id": "OH8sxiSBD123"
      }
    },
    {
      "cell_type": "code",
      "source": [
        "# Storing the test set metrics value in a dataframe for later comparision\n",
        "dict2={'Model': 'Linear Regression',\n",
        "       'MAE':round((MAE_1),3),\n",
        "       'MSE':round((MSE_1),3),\n",
        "       'RMSE':round((RMSE_1),3),\n",
        "       'R2_score':round((r2_1),3),\n",
        "       'Adjusted R2':round((Adjusted_R2_1),2)\n",
        "       }\n",
        "# Convert dict2 to a DataFrame\n",
        "df_new_row = pd.DataFrame([dict2])\n",
        "\n",
        "# Use pd.concat instead of append\n",
        "if 'test_df' in locals():\n",
        "    test_df = pd.concat([test_df, df_new_row], ignore_index=True)\n",
        "else:\n",
        "    test_df = df_new_row"
      ],
      "metadata": {
        "id": "JxyIrxTREUnK"
      },
      "execution_count": null,
      "outputs": []
    },
    {
      "cell_type": "code",
      "source": [
        "# heteroscedasticity - residual plot\n",
        "plt.scatter((y_pred_test_lasso), (y_test-y_pred_test_lasso))\n",
        "plt.xlabel('Predicted Values')\n",
        "plt.ylabel('Residuals')\n",
        "plt.title('Residual Plot')\n",
        "plt.show()"
      ],
      "metadata": {
        "id": "b0XgACVFEsv4"
      },
      "execution_count": null,
      "outputs": []
    },
    {
      "cell_type": "code",
      "source": [
        "# plot the figure\n",
        "plt.figure(figsize=(10,8))\n",
        "plt.plot(np.array(y_pred_test_lasso))\n",
        "plt.plot(np.array((y_test)))\n",
        "plt.legend([\"Predicted\",\"Actual\"])\n",
        "plt.show()"
      ],
      "metadata": {
        "id": "2PEZ9QTZFDu0"
      },
      "execution_count": null,
      "outputs": []
    },
    {
      "cell_type": "markdown",
      "source": [
        "# RIDGE REGRESSION"
      ],
      "metadata": {
        "id": "MWIno5pPFo9d"
      }
    },
    {
      "cell_type": "markdown",
      "source": [
        "Ridge regression is a method of estimating the coefficients of regression models in scenarios where the independent variabls are highly correlated. It uses the linear regression model with the L2 regularization method."
      ],
      "metadata": {
        "id": "3eML9KxBOhag"
      }
    },
    {
      "cell_type": "code",
      "source": [
        "# Import the packages\n",
        "from sklearn.linear_model import Ridge\n",
        "\n",
        "ridge=Ridge(alpha=0.1)"
      ],
      "metadata": {
        "id": "ngemUuTSO3tK"
      },
      "execution_count": null,
      "outputs": []
    },
    {
      "cell_type": "code",
      "source": [
        "# FIT THE MODEL\n",
        "ridge.fit(X_train,y_train)"
      ],
      "metadata": {
        "id": "r4qBmYwXPHMl"
      },
      "execution_count": null,
      "outputs": []
    },
    {
      "cell_type": "code",
      "source": [
        "# Check the score\n",
        "ridge.score(X_train, y_train)"
      ],
      "metadata": {
        "id": "yFuqHZTUPUAd"
      },
      "execution_count": null,
      "outputs": []
    },
    {
      "cell_type": "code",
      "source": [
        "# Get the X_train and X-test value\n",
        "y_pred_train_ridge=ridge.predict(X_train)\n",
        "y_pred_test_ridge=ridge.predict(X_test)"
      ],
      "metadata": {
        "id": "XeKL4527PdIE"
      },
      "execution_count": null,
      "outputs": []
    },
    {
      "cell_type": "code",
      "source": [
        "y_pred_train_ridge"
      ],
      "metadata": {
        "id": "eBLR6ReMPtoo"
      },
      "execution_count": null,
      "outputs": []
    },
    {
      "cell_type": "code",
      "source": [
        "y_pred_test_ridge"
      ],
      "metadata": {
        "id": "UOeZIsB1Py7S"
      },
      "execution_count": null,
      "outputs": []
    },
    {
      "cell_type": "code",
      "source": [
        "# Import the packages\n",
        "from sklearn.metrics import mean_squared_error\n",
        "# Calculate MSE\n",
        "MSE_r=mean_squared_error((y_train), (y_pred_train_ridge))\n",
        "print(\"MSE: \",MSE_r)\n",
        "\n",
        "# Calculate RMSE\n",
        "RMSE_r=np.sqrt(MSE_r)\n",
        "print(\"RMSE: \",RMSE_r)\n",
        "\n",
        "# Calculate MAE\n",
        "MAE_r=mean_absolute_error(y_train, y_pred_train_ridge)\n",
        "print(\"MAE: \",MAE_r)\n",
        "\n",
        "# Import the packages\n",
        "from sklearn.metrics import r2_score\n",
        "# Calculate r2 and adjusted r2\n",
        "r2_r=r2_score(y_train, y_pred_train_ridge)\n",
        "print(\"R2: \",r2_r)\n",
        "Adjusted_R2_r = (1-(1-r2_score(y_train, y_pred_train_ridge))*((X_test.shape[0]-1)/(X_test.shape[0]-X_test.shape[1]-1)))\n",
        "print(\"Adjusted R2 :\", 1-(1-r2_score(y_train, y_pred_train_ridge))*((X_test.shape[0]-1)/(X_test.shape[0]-X_test.shape[1]-1)))"
      ],
      "metadata": {
        "id": "ywzxoSTvQC9W"
      },
      "execution_count": null,
      "outputs": []
    },
    {
      "cell_type": "markdown",
      "source": [
        "Looks like our train sets r2 score value is 0.79 that means our model is able  to capture most of the data variance. Lets save it in a dataframe for later comparisons."
      ],
      "metadata": {
        "id": "v5yAziNfRiC-"
      }
    },
    {
      "cell_type": "code",
      "source": [
        "# Calculate MSE\n",
        "MSE_r=mean_squared_error((y_train), (y_pred_train_ridge))\n",
        "print(\"MSE: \",MSE_r)\n",
        "\n",
        "# Calculate RMSE\n",
        "RMSE_r=np.sqrt(MSE_r)\n",
        "print(\"RMSE: \",RMSE_r)\n",
        "\n",
        "# Calculate MAE\n",
        "MAE_r=mean_absolute_error(y_train, y_pred_train_ridge)\n",
        "print(\"MAE: \",MAE_r)\n",
        "\n",
        "# Import the packages\n",
        "from sklearn.metrics import r2_score\n",
        "# Calculate r2 and adjusted r2\n",
        "r2_r=r2_score(y_train, y_pred_train_ridge)\n",
        "print(\"R2: \",r2_r)\n",
        "Adjusted_R2_r = (1-(1-r2_score(y_train, y_pred_train_ridge))*((X_test.shape[0]-1)/(X_test.shape[0]-X_test.shape[1]-1)))\n",
        "print(\"Adjusted R2 :\", 1-(1-r2_score(y_train, y_pred_train_ridge))*((X_test.shape[0]-1)/(X_test.shape[0]-X_test.shape[1]-1)))\n",
        "\n",
        "# Storing the test set metrics value in a dataframe for later comparision\n",
        "dict1={'Model': 'Ridge regression',\n",
        "       'MAE':round((MAE_r),3),\n",
        "       'MSE':round((MSE_r),3),\n",
        "       'RMSE':round((RMSE_r),3),\n",
        "       'R2_score':round((r2_r),3),\n",
        "       'Adjusted R2':round((Adjusted_R2_r),2)\n",
        "       }\n",
        "# Use pd.concat instead of append\n",
        "training_df = pd.concat([training_df, pd.DataFrame([dict1])], ignore_index=True)"
      ],
      "metadata": {
        "id": "DV_8zbR9R5vJ"
      },
      "execution_count": null,
      "outputs": []
    },
    {
      "cell_type": "code",
      "source": [
        "# Import the packages\n",
        "from sklearn.metrics import mean_squared_error\n",
        "# Calculate MSE\n",
        "MSE_r=mean_squared_error((y_test), (y_pred_test_ridge))\n",
        "print(\"MSE: \",MSE_r)\n",
        "\n",
        "# Calculate RMSE\n",
        "RMSE_r=np.sqrt(MSE_r)\n",
        "print(\"RMSE: \",RMSE_r)\n",
        "\n",
        "# Calculate MAE\n",
        "MAE_r=mean_absolute_error(y_test, y_pred_test_ridge)\n",
        "print(\"MAE: \",MAE_r)\n",
        "\n",
        "# Import the packages\n",
        "from sklearn.metrics import r2_score\n",
        "# Calculate r2 and adjusted r2\n",
        "r2_r=r2_score(y_test, y_pred_test_ridge)\n",
        "print(\"R2: \",r2_r)\n",
        "Adjusted_R2_r = (1-(1-r2_score(y_test, y_pred_test_ridge))*((X_test.shape[0]-1)/(X_test.shape[0]-X_test.shape[1]-1)))\n",
        "print(\"Adjusted R2 :\", 1-(1-r2_score(y_test, y_pred_test_ridge))*((X_test.shape[0]-1)/(X_test.shape[0]-X_test.shape[1]-1)))"
      ],
      "metadata": {
        "id": "Z2r0bRN-R5et"
      },
      "execution_count": null,
      "outputs": []
    },
    {
      "cell_type": "markdown",
      "source": [
        "The r2_score for the test set is 0.80. This means our linear model is performing well on the data. Let us try to visualize our rseiduals and see if there is heteroscedasticity(unequal variance or scatter)."
      ],
      "metadata": {
        "id": "jvX5aGFCS0w3"
      }
    },
    {
      "cell_type": "code",
      "source": [
        "# Storing the test set metrics value in a dataframe for later comparision\n",
        "dict2={'Model': 'Ridge regression',\n",
        "       'MAE':round((MAE_r),3),\n",
        "       'MSE':round((MSE_r),3),\n",
        "       'RMSE':round((RMSE_r),3),\n",
        "       'R2_score':round((r2_r),3),\n",
        "       'Adjusted R2':round((Adjusted_R2_r),2)\n",
        "       }\n",
        "test_df = pd.concat([test_df, pd.DataFrame([dict2])], ignore_index=True) # Use pd.concat instead of append"
      ],
      "metadata": {
        "id": "sEY8GZimTOPY"
      },
      "execution_count": null,
      "outputs": []
    },
    {
      "cell_type": "code",
      "source": [
        "# heteroscedasticity - residual plot\n",
        "plt.scatter((y_pred_test_ridge), (y_test-y_pred_test_ridge))\n",
        "plt.xlabel('Predicted Values')\n",
        "plt.ylabel('Residuals')\n",
        "plt.title('Residual Plot')\n",
        "plt.show()"
      ],
      "metadata": {
        "id": "6pYt7l4YaJx_"
      },
      "execution_count": null,
      "outputs": []
    },
    {
      "cell_type": "code",
      "source": [
        "# plot the figure\n",
        "plt.figure(figsize=(10,8))\n",
        "plt.plot(np.array(y_pred_test_ridge))\n",
        "plt.plot(np.array((y_test)))\n",
        "plt.legend([\"Predicted\",\"Actual\"])\n",
        "plt.show()"
      ],
      "metadata": {
        "id": "ai_iy8zaaaTP"
      },
      "execution_count": null,
      "outputs": []
    },
    {
      "cell_type": "markdown",
      "source": [
        "# ELASTIC NET REGRESSION\n",
        "\n",
        "Elastic Net Regression is a linear regression model that combines both L1(Lasso) and L2(Ridge) regularization penalties to overcome some of the limitations of each individual method.\n",
        "\n",
        "The model introduces two hyperparameters, alpha and l1_ratio, which control the strength of the L1 and L2 penalties, respectively. Elastic Net regression is particularly useful when dealing with datasets that have high dimensionality and multicollinearity between features."
      ],
      "metadata": {
        "id": "tuibI-VhbS2F"
      }
    },
    {
      "cell_type": "code",
      "source": [
        "# Import the packages\n",
        "from sklearn.linear_model import ElasticNet\n",
        "# a * L1 + b * L2\n",
        "# Alpha = a + b and l1_ratio = a / (a+b)\n",
        "elasticnet = ElasticNet(alpha=0.1, l1_ratio=0.5)"
      ],
      "metadata": {
        "id": "8A_O0GSFh2Gw"
      },
      "execution_count": null,
      "outputs": []
    },
    {
      "cell_type": "code",
      "source": [
        "# FIT THE MODEL\n",
        "elasticnet.fit(X_train,y_train)"
      ],
      "metadata": {
        "id": "ouvwG9PkiWuz"
      },
      "execution_count": null,
      "outputs": []
    },
    {
      "cell_type": "code",
      "source": [
        "# Check the score\n",
        "elasticnet.score(X_train,y_train)"
      ],
      "metadata": {
        "id": "BsPIoSTaiihT"
      },
      "execution_count": null,
      "outputs": []
    },
    {
      "cell_type": "code",
      "source": [
        "# Get the X_train and X-test value\n",
        "y_pred_train_en=elasticnet.predict(X_train)\n",
        "y_pred_test_en=elasticnet.predict(X_test)"
      ],
      "metadata": {
        "id": "jLaWo5Jjiw1W"
      },
      "execution_count": null,
      "outputs": []
    },
    {
      "cell_type": "code",
      "source": [
        "print(y_pred_train_en)\n",
        "print(y_pred_test_en)"
      ],
      "metadata": {
        "id": "DkUBr9m9i9cF"
      },
      "execution_count": null,
      "outputs": []
    },
    {
      "cell_type": "code",
      "source": [
        "# Import the packages\n",
        "from sklearn.metrics import mean_squared_error\n",
        "# Calculate MSE\n",
        "MSE_e=mean_squared_error((y_train), (y_pred_train_en))\n",
        "print(\"MSE: \",MSE_e)\n",
        "\n",
        "# Calculate RMSE\n",
        "RMSE_e=np.sqrt(MSE_e)\n",
        "print(\"RMSE: \",RMSE_e)\n",
        "\n",
        "# Calculate MAE\n",
        "MAE_e=mean_absolute_error(y_train, y_pred_train_en)\n",
        "print(\"MAE: \",MAE_e)\n",
        "\n",
        "# Import the packages\n",
        "from sklearn.metrics import r2_score\n",
        "# Calculate r2 and adjusted r2\n",
        "r2_e=r2_score(y_train, y_pred_train_en)\n",
        "print(\"R2: \",r2_e)\n",
        "Adjusted_R2_e = (1-(1-r2_score(y_train, y_pred_train_en))*((X_test.shape[0]-1)/(X_test.shape[0]-X_test.shape[1]-1)))\n",
        "print(\"Adjusted R2 :\", 1-(1-r2_score(y_train, y_pred_train_en))*((X_test.shape[0]-1)/(X_test.shape[0]-X_test.shape[1]-1)))"
      ],
      "metadata": {
        "id": "e8mmeIdcjeUX"
      },
      "execution_count": null,
      "outputs": []
    },
    {
      "cell_type": "code",
      "source": [
        "# Calculate MSE\n",
        "MSE_e=mean_squared_error((y_train), (y_pred_train_en))\n",
        "print(\"MSE: \",MSE_e)\n",
        "\n",
        "# Calculate RMSE\n",
        "RMSE_e=np.sqrt(MSE_e)\n",
        "print(\"RMSE: \",RMSE_e)\n",
        "\n",
        "# Calculate MAE\n",
        "MAE_e=mean_absolute_error(y_train, y_pred_train_en)\n",
        "print(\"MAE: \",MAE_e)\n",
        "\n",
        "# Import the packages\n",
        "from sklearn.metrics import r2_score\n",
        "# Calculate r2 and adjusted r2\n",
        "r2_e=r2_score(y_train, y_pred_train_en)\n",
        "print(\"R2: \",r2_e)\n",
        "Adjusted_R2_e = (1-(1-r2_score(y_train, y_pred_train_en))*((X_test.shape[0]-1)/(X_test.shape[0]-X_test.shape[1]-1)))\n",
        "print(\"Adjusted R2 :\", 1-(1-r2_score(y_train, y_pred_train_en))*((X_test.shape[0]-1)/(X_test.shape[0]-X_test.shape[1]-1)))\n",
        "\n",
        "# Storing the test set metrics value in a dataframe for later comparision\n",
        "dict1={'Model': 'Elastic net regression',\n",
        "       'MAE':round((MAE_e),3),\n",
        "       'MSE':round((MSE_e),3),\n",
        "       'RMSE':round((RMSE_e),3),\n",
        "       'R2_score':round((r2_e),3),\n",
        "       'Adjusted R2':round((Adjusted_R2_e),2)\n",
        "       }\n",
        "# Use pd.concat instead of append\n",
        "training_df = pd.concat([training_df, pd.DataFrame([dict1])], ignore_index=True)"
      ],
      "metadata": {
        "id": "39pspiQzkdJr"
      },
      "execution_count": null,
      "outputs": []
    },
    {
      "cell_type": "code",
      "source": [
        "# Import the packages\n",
        "from sklearn.metrics import mean_squared_error\n",
        "# Calculate MSE\n",
        "MSE_e=mean_squared_error((y_test), (y_pred_test_en))\n",
        "print(\"MSE: \",MSE_e)\n",
        "\n",
        "# Calculate RMSE\n",
        "RMSE_e=np.sqrt(MSE_e)\n",
        "print(\"RMSE: \",RMSE_e)\n",
        "\n",
        "# Calculate MAE\n",
        "MAE_e=mean_absolute_error(y_test, y_pred_test_en)\n",
        "print(\"MAE: \",MAE_e)\n",
        "\n",
        "# Import the packages\n",
        "from sklearn.metrics import r2_score\n",
        "# Calculate r2 and adjusted r2\n",
        "r2_e=r2_score(y_test, y_pred_test_en)\n",
        "print(\"R2: \",r2_e)\n",
        "Adjusted_R2_e = (1-(1-r2_score(y_test, y_pred_test_en))*((X_test.shape[0]-1)/(X_test.shape[0]-X_test.shape[1]-1)))\n",
        "print(\"Adjusted R2 :\", 1-(1-r2_score(y_test, y_pred_test_en))*((X_test.shape[0]-1)/(X_test.shape[0]-X_test.shape[1]-1)))"
      ],
      "metadata": {
        "id": "BnGzaEChk0Qy"
      },
      "execution_count": null,
      "outputs": []
    },
    {
      "cell_type": "code",
      "source": [
        "# Storing the test set metrics value in a dataframe for later comparision\n",
        "dict2={'Model': 'Elastic net regression Test',\n",
        "       'MAE':round((MAE_e),3),\n",
        "       'MSE':round((MSE_e),3),\n",
        "       'RMSE':round((RMSE_e),3),\n",
        "       'R2_score':round((r2_e),3),\n",
        "       'Adjusted R2':round((Adjusted_R2_e),2)\n",
        "       }\n",
        "# Use pd.concat instead of append\n",
        "test_df = pd.concat([test_df, pd.DataFrame([dict2])], ignore_index=True)"
      ],
      "metadata": {
        "id": "EGY_muYGlcfS"
      },
      "execution_count": null,
      "outputs": []
    },
    {
      "cell_type": "code",
      "source": [
        "# heteroscedasticity - residual plot\n",
        "plt.scatter((y_pred_test_en), (y_test-y_pred_test_en))\n",
        "plt.xlabel('Predicted Values')\n",
        "plt.ylabel('Residuals')\n",
        "plt.title('Residual Plot')\n",
        "plt.show()"
      ],
      "metadata": {
        "id": "-4LDWykVltCI"
      },
      "execution_count": null,
      "outputs": []
    },
    {
      "cell_type": "code",
      "source": [
        "# plot the figure\n",
        "plt.figure(figsize=(10,8))\n",
        "plt.plot(np.array(y_pred_test_en))\n",
        "plt.plot(np.array((y_test)))\n",
        "plt.legend([\"Predicted\",\"Actual\"])\n",
        "plt.show()"
      ],
      "metadata": {
        "id": "KmU384ofl5JD"
      },
      "execution_count": null,
      "outputs": []
    },
    {
      "cell_type": "markdown",
      "source": [
        "# DECISION TREE"
      ],
      "metadata": {
        "id": "lo2fUFSemT2k"
      }
    },
    {
      "cell_type": "markdown",
      "source": [
        "A decision tree is a type of supervised machine learning algorithm that is commonly used for classification and regression tasks. It works by recursively splitting the data into subsets based on the values of certain atributes, ultimately arriving at a set of decision rules that can be used to classify or predict outcomes for new data."
      ],
      "metadata": {
        "id": "BU444jZ0mYsS"
      }
    },
    {
      "cell_type": "code",
      "source": [
        "from sklearn.tree import DecisionTreeRegressor\n",
        "\n",
        "decision_regressor = DecisionTreeRegressor(criterion='friedman_mse', max_depth=8,\n",
        "                                           max_features=9, max_leaf_nodes=100,)\n",
        "decision_regressor.fit(X_train, y_train)"
      ],
      "metadata": {
        "id": "_TpJbOoSnFA8"
      },
      "execution_count": null,
      "outputs": []
    },
    {
      "cell_type": "code",
      "source": [
        "# Get the X_train and X-test value\n",
        "y_pred_train_d = decision_regressor.predict(X_train)\n",
        "y_pred_test_d = decision_regressor.predict(X_test)"
      ],
      "metadata": {
        "id": "6wBu9Xi1nr7E"
      },
      "execution_count": null,
      "outputs": []
    },
    {
      "cell_type": "code",
      "source": [
        "print(y_pred_train_d)\n",
        "print(y_pred_test_d)"
      ],
      "metadata": {
        "id": "MPwQiewVoDS6"
      },
      "execution_count": null,
      "outputs": []
    },
    {
      "cell_type": "code",
      "source": [
        "# Import the packages\n",
        "from sklearn.metrics import mean_squared_error\n",
        "# Calculate MSE\n",
        "MSE_d=mean_squared_error((y_train), (y_pred_train_d))\n",
        "print(\"MSE: \",MSE_d)\n",
        "\n",
        "# Calculate RMSE\n",
        "RMSE_d=np.sqrt(MSE_d)\n",
        "print(\"RMSE: \",RMSE_d)\n",
        "\n",
        "# Calculate MAE\n",
        "MAE_d=mean_absolute_error(y_train, y_pred_train_d)\n",
        "print(\"MAE: \",MAE_d)\n",
        "\n",
        "# Import the packages\n",
        "from sklearn.metrics import r2_score\n",
        "# Calculate r2 and adjusted r2\n",
        "r2_d=r2_score(y_train, y_pred_train_d)\n",
        "print(\"R2: \",r2_d)\n",
        "Adjusted_R2_d = (1-(1-r2_score(y_train, y_pred_train_d))*((X_test.shape[0]-1)/(X_test.shape[0]-X_test.shape[1]-1)))\n",
        "print(\"Adjusted R2 :\", 1-(1-r2_score(y_train, y_pred_train_d))*((X_test.shape[0]-1)/(X_test.shape[0]-X_test.shape[1]-1)))"
      ],
      "metadata": {
        "id": "7Yg9XD7jsaH2"
      },
      "execution_count": null,
      "outputs": []
    },
    {
      "cell_type": "markdown",
      "source": [
        "Looks like our train set r2 value is 0.67 that means our model is able to capture most of the data variance. Lets save it in a dataframe for later comparisions."
      ],
      "metadata": {
        "id": "G1_aQWWpuZua"
      }
    },
    {
      "cell_type": "code",
      "source": [
        "# Calculate MSE\n",
        "MSE_d=mean_squared_error((y_train), (y_pred_train_d))\n",
        "print(\"MSE: \",MSE_d)\n",
        "\n",
        "# Calculate RMSE\n",
        "RMSE_d=np.sqrt(MSE_d)\n",
        "print(\"RMSE: \",RMSE_d)\n",
        "\n",
        "# Calculate MAE\n",
        "MAE_d=mean_absolute_error(y_train, y_pred_train_d)\n",
        "print(\"MAE: \",MAE_d)\n",
        "\n",
        "# Calculate r2 and adjusted r2\n",
        "r2_d=r2_score(y_train, y_pred_train_d)\n",
        "print(\"R2: \",r2_d)\n",
        "Adjusted_R2_d = (1-(1-r2_score(y_train, y_pred_train_d))*((X_test.shape[0]-1)/(X_test.shape[0]-X_test.shape[1]-1)))\n",
        "print(\"Adjusted R2 :\", 1-(1-r2_score(y_train, y_pred_train_d))*((X_test.shape[0]-1)/(X_test.shape[0]-X_test.shape[1]-1)))\n",
        "\n",
        "# Storing the test set metrics value in a dataframe for later comparision\n",
        "dict1={'Model': 'Decision tree regression',\n",
        "       'MAE':round((MAE_d),3),\n",
        "       'MSE':round((MSE_d),3),\n",
        "       'RMSE':round((RMSE_d),3),\n",
        "       'R2_score':round((r2_d),3),\n",
        "       'Adjusted R2':round((Adjusted_R2_d),2)\n",
        "       }\n",
        "\n",
        "# Check if 'training_df' exists and is a DataFrame. If not, create an empty one.\n",
        "if 'training_df' not in locals() or not isinstance(training_df, pd.DataFrame):\n",
        "    training_df = pd.DataFrame()\n",
        "\n",
        "# Use pd.concat to add the new row\n",
        "training_df = pd.concat([training_df, pd.DataFrame([dict1])], ignore_index=True)"
      ],
      "metadata": {
        "id": "3DuK27ABse84"
      },
      "execution_count": null,
      "outputs": []
    },
    {
      "cell_type": "code",
      "source": [
        "# Import the packages\n",
        "from sklearn.metrics import mean_squared_error\n",
        "# Calculate MSE\n",
        "MSE_d=mean_squared_error((y_test), (y_pred_test_d))\n",
        "print(\"MSE: \",MSE_d)\n",
        "\n",
        "# Calculate RMSE\n",
        "RMSE_d=np.sqrt(MSE_d)\n",
        "print(\"RMSE: \",RMSE_d)\n",
        "\n",
        "# Calculate MAE\n",
        "MAE_d=mean_absolute_error(y_test, y_pred_test_d)\n",
        "print(\"MAE: \",MAE_d)\n",
        "\n",
        "# Import the packages\n",
        "from sklearn.metrics import r2_score\n",
        "# Calculate r2 and adjusted r2\n",
        "r2_d=r2_score(y_test, y_pred_test_d)\n",
        "print(\"R2: \",r2_d)\n",
        "Adjusted_R2_d = (1-(1-r2_score(y_test, y_pred_test_d))*((X_test.shape[0]-1)/(X_test.shape[0]-X_test.shape[1]-1)))\n",
        "print(\"Adjusted R2 :\", 1-(1-r2_score(y_test, y_pred_test_d))*((X_test.shape[0]-1)/(X_test.shape[0]-X_test.shape[1]-1)))"
      ],
      "metadata": {
        "id": "J2BiBMRvsnRa"
      },
      "execution_count": null,
      "outputs": []
    },
    {
      "cell_type": "markdown",
      "source": [
        "The r2 score for the test set is 0.65. This means our linear model is performing well on the data. Let us try to visualize our residuals and see if there is heteroscedasticity (unequal variance or scatter)."
      ],
      "metadata": {
        "id": "Nn-qoJsgwbX-"
      }
    },
    {
      "cell_type": "code",
      "source": [
        "# Storing the test set metrics value in a dataframe for later comparision\n",
        "dict2={'Model': 'Decision tree regression',\n",
        "       'MAE':round((MAE_d),3),\n",
        "       'MSE':round((MSE_d),3),\n",
        "       'RMSE':round((RMSE_d),3),\n",
        "       'R2_score':round((r2_d),3),\n",
        "       'Adjusted R2':round((Adjusted_R2_d),2)\n",
        "       }\n",
        "\n",
        "# Check if 'test_df' exists and is a DataFrame. If not, create an empty one.\n",
        "if 'test_df' not in locals() or not isinstance(test_df, pd.DataFrame):\n",
        "    test_df = pd.DataFrame()\n",
        "\n",
        "# Use pd.concat to add the new row\n",
        "test_df = pd.concat([test_df, pd.DataFrame([dict2])], ignore_index=True)"
      ],
      "metadata": {
        "id": "9hcCpgYKssw3"
      },
      "execution_count": null,
      "outputs": []
    },
    {
      "cell_type": "code",
      "source": [
        "# heteroscedasticity - residual plot\n",
        "plt.scatter((y_pred_test_d), (y_test-y_pred_test_d))\n",
        "plt.xlabel('Predicted Values')\n",
        "plt.ylabel('Residuals')\n",
        "plt.title('Residual Plot')\n",
        "plt.show()"
      ],
      "metadata": {
        "id": "5XiiIot4s2Fz"
      },
      "execution_count": null,
      "outputs": []
    },
    {
      "cell_type": "code",
      "source": [
        "# plot the figure\n",
        "plt.figure(figsize=(10,8))\n",
        "plt.plot(np.array(y_pred_test_d))\n",
        "plt.plot(np.array((y_test)))\n",
        "plt.legend([\"Predicted\",\"Actual\"])\n",
        "plt.show()"
      ],
      "metadata": {
        "id": "vnLTYiK2s6gq"
      },
      "execution_count": null,
      "outputs": []
    },
    {
      "cell_type": "markdown",
      "source": [
        "# RANDOM FOREST"
      ],
      "metadata": {
        "id": "6vuzP26Ux18P"
      }
    },
    {
      "cell_type": "code",
      "source": [
        "# Import the packages\n",
        "from sklearn.ensemble import RandomForestRegressor\n",
        "# Create an instance of the RandomForestRegressor\n",
        "rf_model = RandomForestRegressor()\n",
        "rf_model.fit(X_train, y_train)"
      ],
      "metadata": {
        "id": "R65bkFIwyBH7"
      },
      "execution_count": null,
      "outputs": []
    },
    {
      "cell_type": "code",
      "source": [
        "# Making predictions on train and test data\n",
        "y_pred_train_r = rf_model.predict(X_train)\n",
        "y_pred_test_r = rf_model.predict(X_test)"
      ],
      "metadata": {
        "id": "pamGd8NUyoXE"
      },
      "execution_count": null,
      "outputs": []
    },
    {
      "cell_type": "code",
      "source": [
        "# Import the packages\n",
        "from sklearn.metrics import mean_squared_error\n",
        "print (\"Model Score:\",rf_model.score(X_train,y_train))\n",
        "# Calculate MSE\n",
        "MSE_rf=mean_squared_error((y_train), (y_pred_train_r))\n",
        "print(\"MSE: \",MSE_rf)\n",
        "\n",
        "# Calculate RMSE\n",
        "RMSE_rf=np.sqrt(MSE_rf)\n",
        "print(\"RMSE: \",RMSE_rf)\n",
        "\n",
        "# Calculate MAE\n",
        "MAE_rf=mean_absolute_error(y_train, y_pred_train_r)\n",
        "print(\"MAE: \",MAE_rf)\n",
        "\n",
        "# Import the packages\n",
        "from sklearn.metrics import r2_score\n",
        "# Calculate r2 and adjusted r2\n",
        "r2_rf=r2_score(y_train, y_pred_train_r)\n",
        "print(\"R2: \",r2_rf)\n",
        "Adjusted_R2_rf = (1-(1-r2_score(y_train, y_pred_train_r))*((X_test.shape[0]-1)/(X_test.shape[0]-X_test.shape[1]-1)))\n",
        "print(\"Adjusted R2 :\", 1-(1-r2_score(y_train, y_pred_train_r))*((X_test.shape[0]-1)/(X_test.shape[0]-X_test.shape[1]-1)))"
      ],
      "metadata": {
        "id": "Pbe2WW4Eq8sn"
      },
      "execution_count": null,
      "outputs": []
    },
    {
      "cell_type": "markdown",
      "source": [
        "Looks like our train sets r2 score value is 0.98 that means our model is able to capture most of the data variance. Lets save it in a dataframe for later comparisions."
      ],
      "metadata": {
        "id": "GQJV3NL4sH5B"
      }
    },
    {
      "cell_type": "code",
      "source": [
        "print (\"Model Score:\",rf_model.score(X_train,y_train))\n",
        "# Calculate MSE\n",
        "MSE_rf=mean_squared_error((y_train), (y_pred_train_r))\n",
        "print(\"MSE: \",MSE_rf)\n",
        "\n",
        "# Calculate RMSE\n",
        "RMSE_rf=np.sqrt(MSE_rf)\n",
        "print(\"RMSE: \",RMSE_rf)\n",
        "\n",
        "# Calculate MAE\n",
        "MAE_rf=mean_absolute_error(y_train, y_pred_train_r)\n",
        "print(\"MAE: \",MAE_rf)\n",
        "\n",
        "# Import the packages\n",
        "from sklearn.metrics import r2_score\n",
        "# Calculate r2 and adjusted r2\n",
        "r2_rf=r2_score(y_train, y_pred_train_r)\n",
        "print(\"R2: \",r2_rf)\n",
        "Adjusted_R2_rf = (1-(1-r2_score(y_train, y_pred_train_r))*((X_test.shape[0]-1)/(X_test.shape[0]-X_test.shape[1]-1)))\n",
        "print(\"Adjusted R2 :\", 1-(1-r2_score(y_train, y_pred_train_r))*((X_test.shape[0]-1)/(X_test.shape[0]-X_test.shape[1]-1)))\n",
        "\n",
        "# Storing the test set metrics value in a dataframe for later comparision\n",
        "dict1={'Model': 'Random Forest regression',\n",
        "       'MAE':round((MAE_rf),3),\n",
        "       'MSE':round((MSE_rf),3),\n",
        "       'RMSE':round((RMSE_rf),3),\n",
        "       'R2_score':round((r2_rf),3),\n",
        "       'Adjusted R2':round((Adjusted_R2_rf),2)\n",
        "       }\n",
        "\n",
        "# Create a DataFrame from the dictionary\n",
        "new_row_df = pd.DataFrame([dict1])\n",
        "\n",
        "# Concatenate the new row with the existing training_df\n",
        "training_df = pd.concat([training_df, new_row_df], ignore_index=True)"
      ],
      "metadata": {
        "id": "XNpkdYodrFRC"
      },
      "execution_count": null,
      "outputs": []
    },
    {
      "cell_type": "code",
      "source": [
        "# Import the packages\n",
        "from sklearn.metrics import mean_squared_error\n",
        "# Calculate MSE\n",
        "MSE_rf=mean_squared_error((y_test), (y_pred_test_r))\n",
        "print(\"MSE: \",MSE_rf)\n",
        "\n",
        "# Calculate RMSE\n",
        "RMSE_rf=np.sqrt(MSE_rf)\n",
        "print(\"RMSE: \",RMSE_rf)\n",
        "\n",
        "# Calculate MAE\n",
        "MAE_rf=mean_absolute_error(y_test, y_pred_test_r)\n",
        "print(\"MAE: \",MAE_rf)\n",
        "\n",
        "# Import the packages\n",
        "from sklearn.metrics import r2_score\n",
        "# Calculate r2 and adjusted r2\n",
        "r2_rf=r2_score(y_test, y_pred_test_r)\n",
        "print(\"R2: \",r2_rf)\n",
        "Adjusted_R2_rf = (1-(1-r2_score(y_test, y_pred_test_r))*((X_test.shape[0]-1)/(X_test.shape[0]-X_test.shape[1]-1)))\n",
        "print(\"Adjusted R2 :\", 1-(1-r2_score(y_test, y_pred_test_r))*((X_test.shape[0]-1)/(X_test.shape[0]-X_test.shape[1]-1)))"
      ],
      "metadata": {
        "id": "ZwlzIr1UrIrX"
      },
      "execution_count": null,
      "outputs": []
    },
    {
      "cell_type": "code",
      "source": [
        "# Storing the test set metrics value in a dataframe for later comparision\n",
        "dict2={'Model': 'Random forest regression',\n",
        "       'MAE':round((MAE_rf),3),\n",
        "       'MSE':round((MSE_rf),3),\n",
        "       'RMSE':round((RMSE_rf),3),\n",
        "       'R2_score':round((r2_rf),3),\n",
        "       'Adjusted R2':round((Adjusted_R2_rf),2)\n",
        "       }\n",
        "# Create a DataFrame from the dictionary\n",
        "new_row_df = pd.DataFrame([dict2])\n",
        "\n",
        "# Concatenate the new row with the existing test_df\n",
        "test_df = pd.concat([test_df, new_row_df], ignore_index=True)"
      ],
      "metadata": {
        "id": "j_jnO6BkrMbO"
      },
      "execution_count": null,
      "outputs": []
    },
    {
      "cell_type": "code",
      "source": [
        "# heteroscedasticity - residual plot\n",
        "plt.scatter((y_pred_test_r), (y_test-y_pred_test_r))\n",
        "plt.xlabel('Predicted Values')\n",
        "plt.ylabel('Residuals')\n",
        "plt.title('Residual Plot')\n",
        "plt.show()"
      ],
      "metadata": {
        "id": "3fwap9ewrPvA"
      },
      "execution_count": null,
      "outputs": []
    },
    {
      "cell_type": "code",
      "source": [
        "rf_model.feature_importances_"
      ],
      "metadata": {
        "id": "NM0TvAizrTVS"
      },
      "execution_count": null,
      "outputs": []
    },
    {
      "cell_type": "markdown",
      "source": [
        "# FEATURE STORED"
      ],
      "metadata": {
        "id": "CJI35Y81trh6"
      }
    },
    {
      "cell_type": "code",
      "source": [
        "importances = rf_model.feature_importances_\n",
        "\n",
        "importance_dict = {'Feature' : list(X_train.columns),\n",
        "                    'Feature Importance' : importances}\n",
        "importance_df = pd.DataFrame(importance_dict)"
      ],
      "metadata": {
        "id": "_ejbRHjJtu8F"
      },
      "execution_count": null,
      "outputs": []
    },
    {
      "cell_type": "code",
      "source": [
        "importance_df['Feature Importance'] = round(importance_df['Feature Importance'],2)"
      ],
      "metadata": {
        "id": "6kBUkot3uOyB"
      },
      "execution_count": null,
      "outputs": []
    },
    {
      "cell_type": "code",
      "source": [
        "importance_df.sort_values(by=['Feature Importance'],ascending=False)"
      ],
      "metadata": {
        "id": "Ln3GrABludFg"
      },
      "execution_count": null,
      "outputs": []
    },
    {
      "cell_type": "code",
      "source": [
        "# FIT THE MODEL\n",
        "rf_model.fit(X_train,y_train)"
      ],
      "metadata": {
        "id": "JsFpqtQr2Q7S"
      },
      "execution_count": null,
      "outputs": []
    },
    {
      "cell_type": "code",
      "source": [
        "features = X_train.columns\n",
        "importances = rf_model.feature_importances_\n",
        "indices = np.argsort(importances)"
      ],
      "metadata": {
        "id": "i6dVmcuJ2hSI"
      },
      "execution_count": null,
      "outputs": []
    },
    {
      "cell_type": "code",
      "source": [
        "# Plot the figure\n",
        "plt.figure(figsize=(10,20))\n",
        "plt.title('Feature Importance')\n",
        "plt.barh(range(len(indices)), importances[indices], color='blue', align='center')\n",
        "plt.yticks(range(len(indices)), [features[i] for i in indices])\n",
        "plt.xlabel('Relative importance')\n",
        "plt.show()"
      ],
      "metadata": {
        "id": "ZxiFl5Nk20MM"
      },
      "execution_count": null,
      "outputs": []
    },
    {
      "cell_type": "markdown",
      "source": [
        "# GRADIENT BOOSTING"
      ],
      "metadata": {
        "id": "_szfdw2w4JL2"
      }
    },
    {
      "cell_type": "code",
      "source": [
        "# Import the packages\n",
        "from sklearn.ensemble import GradientBoostingRegressor\n",
        "# Create an instance of the GradientBoostingRegressor\n",
        "gb_model = GradientBoostingRegressor()\n",
        "\n",
        "gb_model.fit(X_train,y_train)"
      ],
      "metadata": {
        "id": "jhzE6OfP4IyX"
      },
      "execution_count": null,
      "outputs": []
    },
    {
      "cell_type": "code",
      "source": [
        "# Making the predictions on train and test data\n",
        "y_pred_train_g = gb_model.predict(X_train)\n",
        "y_pred_test_g = gb_model.predict(X_test)"
      ],
      "metadata": {
        "id": "cy_Muydv4jkz"
      },
      "execution_count": null,
      "outputs": []
    },
    {
      "cell_type": "code",
      "source": [
        "# Import the packages\n",
        "from sklearn.metrics import mean_squared_error\n",
        "print (\"Model Score:\",gb_model.score(X_train,y_train))\n",
        "# Calculate MSE\n",
        "MSE_gb=mean_squared_error((y_train), (y_pred_train_g))\n",
        "print(\"MSE: \",MSE_gb)\n",
        "\n",
        "# Calculate RMSE\n",
        "RMSE_gb=np.sqrt(MSE_gb)\n",
        "print(\"RMSE: \",RMSE_gb)\n",
        "\n",
        "# Calculate MAE\n",
        "MAE_gb=mean_absolute_error(y_train, y_pred_train_g)\n",
        "print(\"MAE: \",MAE_gb)\n",
        "\n",
        "# Import the packages\n",
        "from sklearn.metrics import r2_score\n",
        "# Calculate r2 and adjusted r2\n",
        "r2_gb=r2_score(y_train, y_pred_train_g)\n",
        "print(\"R2: \",r2_gb)\n",
        "Adjusted_R2_gb = (1-(1-r2_score(y_train, y_pred_train_g))*((X_test.shape[0]-1)/(X_test.shape[0]-X_test.shape[1]-1)))\n",
        "print(\"Adjusted R2 :\", 1-(1-r2_score(y_train, y_pred_train_g))*((X_test.shape[0]-1)/(X_test.shape[0]-X_test.shape[1]-1)))"
      ],
      "metadata": {
        "id": "5Sg2dOmG44y8"
      },
      "execution_count": null,
      "outputs": []
    },
    {
      "cell_type": "markdown",
      "source": [
        "Looks like our train sets r2 score value is 0.87 that means our model is able to capture most of the data variance. Lets save it in a dataframe for later comparisons."
      ],
      "metadata": {
        "id": "QESRmAr35Wn2"
      }
    },
    {
      "cell_type": "code",
      "source": [
        "# Storing the test set metrics value in a dataframe for later comparision\n",
        "dict1={'Model': 'Gradient Boosting regression',\n",
        "       'MAE':round((MAE_gb),3),\n",
        "       'MSE':round((MSE_gb),3),\n",
        "       'RMSE':round((RMSE_gb),3),\n",
        "       'R2_score':round((r2_gb),3),\n",
        "       'Adjusted R2':round((Adjusted_R2_gb),2)\n",
        "       }\n",
        "\n",
        "# Convert dict1 to a DataFrame\n",
        "df_to_append = pd.DataFrame([dict1])\n",
        "\n",
        "# Use pd.concat to append the new data\n",
        "training_df = pd.concat([training_df, df_to_append], ignore_index=True)"
      ],
      "metadata": {
        "id": "h475_mj55wWr"
      },
      "execution_count": null,
      "outputs": []
    },
    {
      "cell_type": "code",
      "source": [
        "# Import the packages\n",
        "from sklearn.metrics import mean_squared_error\n",
        "# Calculate MSE\n",
        "MSE_gb=mean_squared_error((y_test), (y_pred_test_g))\n",
        "print(\"MSE: \",MSE_gb)\n",
        "\n",
        "# Calculate RMSE\n",
        "RMSE_gb=np.sqrt(MSE_gb)\n",
        "print(\"RMSE: \",RMSE_gb)\n",
        "\n",
        "# Calculate MAE\n",
        "MAE_gb=mean_absolute_error(y_test, y_pred_test_g)\n",
        "print(\"MAE: \",MAE_gb)\n",
        "\n",
        "# Import the packages\n",
        "from sklearn.metrics import r2_score\n",
        "# Calculate r2 and adjusted r2\n",
        "r2_gb=r2_score(y_test, y_pred_test_g)\n",
        "print(\"R2: \",r2_gb)\n",
        "Adjusted_R2_gb = (1-(1-r2_score(y_test, y_pred_test_g))*((X_test.shape[0]-1)/(X_test.shape[0]-X_test.shape[1]-1)))\n",
        "print(\"Adjusted R2 :\", 1-(1-r2_score(y_test, y_pred_test_g))*((X_test.shape[0]-1)/(X_test.shape[0]-X_test.shape[1]-1)))"
      ],
      "metadata": {
        "id": "0qSSfg_E515y"
      },
      "execution_count": null,
      "outputs": []
    },
    {
      "cell_type": "markdown",
      "source": [
        "Looks like our train sets r2 score value is 0.86 that means our model is able to capture most of the data variance. Lets save it in a dataframe for later comparisons"
      ],
      "metadata": {
        "id": "krFOq_Zh6i-r"
      }
    },
    {
      "cell_type": "code",
      "source": [
        "# Storing the test set metrics value in a dataframe for later comparision\n",
        "dict2={'Model': 'Gradient Boosting regression',\n",
        "       'MAE':round((MAE_gb),3),\n",
        "       'MSE':round((MSE_gb),3),\n",
        "       'RMSE':round((RMSE_gb),3),\n",
        "       'R2_score':round((r2_gb),3),\n",
        "       'Adjusted R2':round((Adjusted_R2_gb),2)\n",
        "       }\n",
        "\n",
        "# Convert dict2 to a DataFrame\n",
        "df_to_append = pd.DataFrame([dict2])\n",
        "\n",
        "# Use pd.concat to append the new data\n",
        "test_df = pd.concat([test_df, df_to_append], ignore_index=True)"
      ],
      "metadata": {
        "id": "v6nFs0ri57Y-"
      },
      "execution_count": null,
      "outputs": []
    },
    {
      "cell_type": "code",
      "source": [
        "# heteroscedasticity - residual plot\n",
        "plt.scatter((y_pred_test_g), (y_test-y_pred_test_g))\n",
        "plt.xlabel('Predicted Values')\n",
        "plt.ylabel('Residuals')\n",
        "plt.title('Residual Plot')\n",
        "plt.show()"
      ],
      "metadata": {
        "id": "3iDlYi4T6A98"
      },
      "execution_count": null,
      "outputs": []
    },
    {
      "cell_type": "code",
      "source": [
        "gb_model.feature_importances_"
      ],
      "metadata": {
        "id": "uIgEPHuH69HT"
      },
      "execution_count": null,
      "outputs": []
    },
    {
      "cell_type": "markdown",
      "source": [
        "# FEATURED STORED"
      ],
      "metadata": {
        "id": "LQ8hTGPj7E1e"
      }
    },
    {
      "cell_type": "code",
      "source": [
        "importances = gb_model.feature_importances_\n",
        "\n",
        "importance_dict = {'Feature' : list(X_train.columns),\n",
        "                    'Feature Importance' : importances}\n",
        "importance_df = pd.DataFrame(importance_dict)"
      ],
      "metadata": {
        "id": "YNJiRp7k7JAq"
      },
      "execution_count": null,
      "outputs": []
    },
    {
      "cell_type": "code",
      "source": [
        "importance_df['Feature Importance'] = round(importance_df['Feature Importance'],2)"
      ],
      "metadata": {
        "id": "FS1FolCT7dEC"
      },
      "execution_count": null,
      "outputs": []
    },
    {
      "cell_type": "code",
      "source": [
        "importance_df.head()"
      ],
      "metadata": {
        "id": "7Oj5pPo_7lYu"
      },
      "execution_count": null,
      "outputs": []
    },
    {
      "cell_type": "code",
      "source": [
        "importance_df.sort_values(by=['Feature Importance'],ascending=False)"
      ],
      "metadata": {
        "id": "XkyQLY5d7wUv"
      },
      "execution_count": null,
      "outputs": []
    },
    {
      "cell_type": "code",
      "source": [
        "gb_model.fit(X_train,y_train)"
      ],
      "metadata": {
        "id": "zgESuvkb725D"
      },
      "execution_count": null,
      "outputs": []
    },
    {
      "cell_type": "code",
      "source": [
        "features = X_train.columns\n",
        "importances = gb_model.feature_importances_\n",
        "indices = np.argsort(importances)"
      ],
      "metadata": {
        "id": "Bwu_s4IO7_Q2"
      },
      "execution_count": null,
      "outputs": []
    },
    {
      "cell_type": "code",
      "source": [
        "# Plot the figure\n",
        "plt.figure(figsize=(10,20))\n",
        "plt.title('Feature Importance')\n",
        "plt.barh(range(len(indices)), importances[indices], color='blue', align='center')\n",
        "plt.yticks(range(len(indices)), [features[i] for i in indices])\n",
        "plt.xlabel('Relative importance')\n",
        "plt.show()"
      ],
      "metadata": {
        "id": "DRUhTwW28YXE"
      },
      "execution_count": null,
      "outputs": []
    },
    {
      "cell_type": "markdown",
      "source": [
        "# Hyperparameter Tuning"
      ],
      "metadata": {
        "id": "pDeizYQA8lyo"
      }
    },
    {
      "cell_type": "markdown",
      "source": [
        "Before proceeding to try next model, let us try to tune some hyperparameters and see if the performance of our model improves.\n",
        "\n",
        "Hyperparameter tuning is the process of choosing a set of optimal hyperparametes for a learning algorithm. A hyperparameter is a model argument whose value is set before the learning process begins. The key to machine learning algorithms is hyperparameter tuning.\n",
        "\n",
        "####  Using GridSearchCV\n",
        "\n",
        "GridSearchCV helps to loop through predefined hyperparameters and fit the model on the training set. So, in the end, we can select the best parameters from the listed hyperparameters.\n",
        "\n"
      ],
      "metadata": {
        "id": "tpt5hUJrHxB_"
      }
    },
    {
      "cell_type": "markdown",
      "source": [
        "# Gradient Boosting Regressor with GridSearchCV"
      ],
      "metadata": {
        "id": "JvHFLAtII5e2"
      }
    },
    {
      "cell_type": "markdown",
      "source": [
        "# Provide the range of values for chosen hyperparameters"
      ],
      "metadata": {
        "id": "hCww3D3sJAq-"
      }
    },
    {
      "cell_type": "code",
      "source": [
        "# Number of trees\n",
        "n_estimators = [50,80,100]\n",
        "\n",
        "# Maximum depth of trees\n",
        "max_depth = [4,6,8]\n",
        "\n",
        "# Minimum number of samples required to split a node\n",
        "min_sample_split = [50,100,150]\n",
        "\n",
        "# Minimum number of samples required at each leaf node\n",
        "min_sample_leaf = [40,50]\n",
        "\n",
        "# Hyperparameter Grid\n",
        "param_dict = {'n_estimators' : n_estimators,\n",
        "              'max_depth' : max_depth,\n",
        "              'min_sample_split' : min_sample_split,\n",
        "              'min_sample_leaf' : min_sample_split}"
      ],
      "metadata": {
        "id": "9ZNoS5NsJH3G"
      },
      "execution_count": null,
      "outputs": []
    },
    {
      "cell_type": "code",
      "source": [
        "param_dict"
      ],
      "metadata": {
        "id": "Yxaj77uTRDK9"
      },
      "execution_count": null,
      "outputs": []
    },
    {
      "cell_type": "markdown",
      "source": [
        "# Importing Gradient Boosting Regressor"
      ],
      "metadata": {
        "id": "xEfGOkGURIle"
      }
    },
    {
      "cell_type": "code",
      "source": [
        "from sklearn.model_selection import GridSearchCV\n",
        "from sklearn.ensemble import GradientBoostingRegressor\n",
        "\n",
        "# Create an instance of the GradientBoostingRegressor\n",
        "gb_model = GradientBoostingRegressor()\n",
        "\n",
        "# Grid search\n",
        "param_dict = {'learning_rate' : [0.1, 0.01],\n",
        "              'n_estimators' : [50,100],\n",
        "              'max_depth' : [3,5]}\n",
        "\n",
        "gb_grid = GridSearchCV(estimator=gb_model,\n",
        "                     param_grid=param_dict,\n",
        "                     cv=3, verbose=2, n_jobs=-1)\n",
        "\n",
        "gb_grid.fit(X_train, y_train)"
      ],
      "metadata": {
        "id": "qDr_0-nXRHah"
      },
      "execution_count": null,
      "outputs": []
    },
    {
      "cell_type": "code",
      "source": [
        "gb_grid.best_estimator_"
      ],
      "metadata": {
        "id": "6A-_xGDqSfPJ"
      },
      "execution_count": null,
      "outputs": []
    },
    {
      "cell_type": "code",
      "source": [
        "gb_optimal_model = gb_grid.best_estimator_"
      ],
      "metadata": {
        "id": "PoknCSjxSnz8"
      },
      "execution_count": null,
      "outputs": []
    },
    {
      "cell_type": "code",
      "source": [
        "gb_grid.best_params_"
      ],
      "metadata": {
        "id": "B8ZYxtYiStuS"
      },
      "execution_count": null,
      "outputs": []
    },
    {
      "cell_type": "code",
      "source": [
        "# Making predictions on train and test data\n",
        "y_pred_train_g_g = gb_optimal_model.predict(X_train)\n",
        "y_pred_g_g = gb_optimal_model.predict(X_test)"
      ],
      "metadata": {
        "id": "DR5yVhzfS1lE"
      },
      "execution_count": null,
      "outputs": []
    },
    {
      "cell_type": "code",
      "source": [
        "# Import the packages\n",
        "from sklearn.metrics import mean_squared_error\n",
        "print (\"Model Score:\",gb_optimal_model.score(X_train,y_train))\n",
        "# Calculate MSE\n",
        "MSE_gbh=mean_squared_error((y_train), (y_pred_train_g_g))\n",
        "print(\"MSE: \",MSE_gbh)\n",
        "\n",
        "# Calculate RMSE\n",
        "RMSE_gbh=np.sqrt(MSE_gbh)\n",
        "print(\"RMSE: \",RMSE_gbh)\n",
        "\n",
        "# Calculate MAE\n",
        "MAE_gbh=mean_absolute_error(y_train, y_pred_train_g_g)\n",
        "print(\"MAE: \",MAE_gbh)\n",
        "\n",
        "# Import the packages\n",
        "from sklearn.metrics import r2_score\n",
        "# Calculate r2 and adjusted r2\n",
        "r2_gbh=r2_score(y_train, y_pred_train_g_g)\n",
        "print(\"R2: \",r2_gbh)\n",
        "Adjusted_R2_gbh = (1-(1-r2_score(y_train, y_pred_train_g_g))*((X_test.shape[0]-1)/(X_test.shape[0]-X_test.shape[1]-1)))\n",
        "print(\"Adjusted R2 :\", 1-(1-r2_score(y_train, y_pred_train_g_g))*((X_test.shape[0]-1)/(X_test.shape[0]-X_test.shape[1]-1)))"
      ],
      "metadata": {
        "id": "MJdlsgLfTR1c"
      },
      "execution_count": null,
      "outputs": []
    },
    {
      "cell_type": "markdown",
      "source": [
        "Looks like our train sets r2 score value is 0.94 that means our model is able to capture most of the data variance. Lets save it in a dataframe for later comparisons"
      ],
      "metadata": {
        "id": "fR7K5yT1T7l6"
      }
    },
    {
      "cell_type": "code",
      "source": [
        "# Storing the test set metrics value in a dataframe for later comparision\n",
        "dict1={'Model': 'Gradient Boosting GridSearchCV',\n",
        "       'MAE':round((MAE_gbh),3),\n",
        "       'MSE':round((MSE_gbh),3),\n",
        "       'RMSE':round((RMSE_gbh),3),\n",
        "       'R2_score':round((r2_gbh),3),\n",
        "       'Adjusted R2':round((Adjusted_R2_gbh),2)\n",
        "       }\n",
        "# Convert dict1 to a DataFrame\n",
        "df_to_append = pd.DataFrame([dict1])\n",
        "\n",
        "# Use concat to append the new DataFrame to training_df\n",
        "training_df = pd.concat([training_df, df_to_append], ignore_index=True)"
      ],
      "metadata": {
        "id": "hA1UWGgeUCG6"
      },
      "execution_count": null,
      "outputs": []
    },
    {
      "cell_type": "code",
      "source": [
        "# Import the packages\n",
        "from sklearn.metrics import mean_squared_error\n",
        "# Calculate MSE\n",
        "MSE_gbh=mean_squared_error((y_test), (y_pred_g_g))\n",
        "print(\"MSE: \",MSE_gbh)\n",
        "\n",
        "# Calculate RMSE\n",
        "RMSE_gbh=np.sqrt(MSE_gbh)\n",
        "print(\"RMSE: \",RMSE_gbh)\n",
        "\n",
        "# Calculate MAE\n",
        "MAE_gbh=mean_absolute_error(y_test, y_pred_g_g)\n",
        "print(\"MAE: \",MAE_gbh)\n",
        "\n",
        "# Import the packages\n",
        "from sklearn.metrics import r2_score\n",
        "# Calculate r2 and adjusted r2\n",
        "r2_gbh=r2_score(y_test, y_pred_g_g)\n",
        "print(\"R2: \",r2_gbh)\n",
        "Adjusted_R2_gbh = (1-(1-r2_score(y_test, y_pred_g_g))*((X_test.shape[0]-1)/(X_test.shape[0]-X_test.shape[1]-1)))\n",
        "print(\"Adjusted R2 :\", 1-(1-r2_score(y_test, y_pred_g_g))*((X_test.shape[0]-1)/(X_test.shape[0]-X_test.shape[1]-1)))"
      ],
      "metadata": {
        "id": "wC8G2Zc5UUIR"
      },
      "execution_count": null,
      "outputs": []
    },
    {
      "cell_type": "markdown",
      "source": [
        "Hyperparameter tunning certainly showed a better result r2 was 0.91 on test and mase and rmse was lowered. Overall model show good result."
      ],
      "metadata": {
        "id": "YD9NF5Y9XyJj"
      }
    },
    {
      "cell_type": "code",
      "source": [
        "# Storing the test set metrics value in a dataframe for later comparision\n",
        "dict2={'Model': 'Gradient Boosting gridsearchCV',\n",
        "       'MAE':round((MAE_gbh),3),\n",
        "       'MSE':round((MSE_gbh),3),\n",
        "       'RMSE':round((RMSE_gbh),3),\n",
        "       'R2_score':round((r2_gbh),3),\n",
        "       'Adjusted R2':round((Adjusted_R2_gbh),2)\n",
        "       }\n",
        "\n",
        "# Convert dict2 to a DataFrame\n",
        "df_to_append = pd.DataFrame([dict2])\n",
        "\n",
        "# Use concat to append the new DataFrame to test_df\n",
        "test_df = pd.concat([test_df, df_to_append], ignore_index=True)"
      ],
      "metadata": {
        "id": "QUoxq94cXTK0"
      },
      "execution_count": null,
      "outputs": []
    },
    {
      "cell_type": "code",
      "source": [
        "# heteroscedasticity - residual plot\n",
        "plt.scatter((y_pred_g_g), (y_test-y_pred_g_g))\n",
        "plt.xlabel('Predicted Values')\n",
        "plt.ylabel('Residuals')\n",
        "plt.title('Residual Plot')\n",
        "plt.show()"
      ],
      "metadata": {
        "id": "pchKWuDxXhIX"
      },
      "execution_count": null,
      "outputs": []
    },
    {
      "cell_type": "code",
      "source": [
        "gb_optimal_model.feature_importances_"
      ],
      "metadata": {
        "id": "iSZrDw9qYepl"
      },
      "execution_count": null,
      "outputs": []
    },
    {
      "cell_type": "markdown",
      "source": [
        "# FEATURES STORED"
      ],
      "metadata": {
        "id": "Tv-tIMPVYltR"
      }
    },
    {
      "cell_type": "code",
      "source": [
        "importances = gb_optimal_model.feature_importances_\n",
        "\n",
        "importance_dict = {'Feature' : list(X_train.columns),\n",
        "                    'Feature Importance' : importances}\n",
        "importance_df = pd.DataFrame(importance_dict)"
      ],
      "metadata": {
        "id": "VZqRE9zCYee4"
      },
      "execution_count": null,
      "outputs": []
    },
    {
      "cell_type": "code",
      "source": [
        "importance_df['Feature Importance'] = round(importance_df['Feature Importance'],2)"
      ],
      "metadata": {
        "id": "jH2I5ytpZBMl"
      },
      "execution_count": null,
      "outputs": []
    },
    {
      "cell_type": "code",
      "source": [
        "importance_df.head()"
      ],
      "metadata": {
        "id": "vQ2Feu0tZF4C"
      },
      "execution_count": null,
      "outputs": []
    },
    {
      "cell_type": "code",
      "source": [
        "importance_df.sort_values(by=['Feature Importance'],ascending=False)"
      ],
      "metadata": {
        "id": "8_gJhTfSZMI-"
      },
      "execution_count": null,
      "outputs": []
    },
    {
      "cell_type": "code",
      "source": [
        "gb_model.fit(X_train,y_train)"
      ],
      "metadata": {
        "id": "2TmAymBbZdmp"
      },
      "execution_count": null,
      "outputs": []
    },
    {
      "cell_type": "code",
      "source": [
        "features = X_train.columns\n",
        "importances = gb_model.feature_importances_\n",
        "indices = np.argsort(importances)"
      ],
      "metadata": {
        "id": "i9s9l-ZmZkR9"
      },
      "execution_count": null,
      "outputs": []
    },
    {
      "cell_type": "code",
      "source": [
        "# Plot the figure\n",
        "plt.figure(figsize=(10,20))\n",
        "plt.title('Feature Importance')\n",
        "plt.barh(range(len(indices)), importances[indices], color='blue', align='center')\n",
        "plt.yticks(range(len(indices)), [features[i] for i in indices])\n",
        "plt.xlabel('Relative importance')\n",
        "plt.show()"
      ],
      "metadata": {
        "id": "sv417PzQZ6-N"
      },
      "execution_count": null,
      "outputs": []
    },
    {
      "cell_type": "markdown",
      "source": [
        "# Conclusion\n",
        "\n"
      ],
      "metadata": {
        "id": "oUrzihEkaRRb"
      }
    },
    {
      "cell_type": "markdown",
      "source": [
        "During our analysis, we conducted an initial exploratory data analysis (EDA) on all features on our dataset. Firstly, we analysed our dependent variable 'Rented Bike Count' and applied transformation as necessary. We than examined the categorical variables and removed those with majority of one class. We also studied the numerical variables, calculated their correlations, distribution and their relationships with the dependent variable. Additionally we removed some numerical features that contained mostly 0 values and applied one hot encoding to the categorical variables.\n",
        "\n",
        "Subsequently, we employed 7 machine learning algorithms including Linear Regression, Lasso, Ridge, Elastic Net, Decision Tree, Random Forest and Gradirnt Booster. We also performed hyperparameter tuning to enhance the performane of our models. The evaluation of our models resulted the following findings."
      ],
      "metadata": {
        "id": "dhgETbDm1IbV"
      }
    },
    {
      "cell_type": "code",
      "source": [
        "# Displaying the results of evaluation metric values for all models.\n",
        "result = pd.concat([training_df,test_df],keys=['Training set','Test set'])\n",
        "result"
      ],
      "metadata": {
        "id": "F3382VOL2pBZ"
      },
      "execution_count": null,
      "outputs": []
    },
    {
      "cell_type": "markdown",
      "source": [
        "We train a model to predict the number of rented bike count in given weather conditions. First, we do Exploratory Data Analysis on the data set. We look for null values that is not found in the dataset and outliers and appropriately modify them. We also perform correlation analysis to extract out the important and relevant feature set and later perform feature engineering.\n",
        "\n",
        "*  Gradient boosting gridsearchcv model shows promising result with the R2 score of 0.91, therefore it can be used to solve this problem.\n",
        "*  Temperature, Functinoning_Day_Yes, Humidity, Rainfall and Solar radiation are major driving factors for the Bike rent demand.\n",
        "*  Bike demand shows peek around 8-9 AM in the morning and 6-7 PM in the evening.\n",
        "*  People prefer to rent bike more in summer than in winter days.\n",
        "*  Bike demand is more on clear days than on snowy or rainy days.\n",
        "*  Temperature range from 22 to 25 (*C) has more demand for bike\n",
        "\n",
        "Although the current analysis may be insightful, it is important to note that the dataset is time-dependent and variables such as temperature, windspeed and solar radiation may not always remain consistent. As a result there may be situations where the model fails to perform well. As field of machine learning is constantly evolving. It is necessary to stay up to date with the latest developments and be prepared to handle unexpected scenarios. Maintaing a strong understanding of Machine Learning concepts will undoubtely provide an advantage in staying ahead in the future.\n"
      ],
      "metadata": {
        "id": "dOj1iGmM3ED2"
      }
    },
    {
      "cell_type": "markdown",
      "source": [
        "# Hurrah!!! You have successfully completed your Machine Learning Capstone Project.\n",
        "\n",
        "---"
      ],
      "metadata": {
        "id": "pQZ7IDcR6EFq"
      }
    }
  ]
}